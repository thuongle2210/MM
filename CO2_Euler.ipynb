{
 "metadata": {
  "language_info": {
   "codemirror_mode": {
    "name": "ipython",
    "version": 3
   },
   "file_extension": ".py",
   "mimetype": "text/x-python",
   "name": "python",
   "nbconvert_exporter": "python",
   "pygments_lexer": "ipython3",
   "version": "3.8.5-final"
  },
  "orig_nbformat": 2,
  "kernelspec": {
   "name": "python3",
   "display_name": "Python 3",
   "language": "python"
  }
 },
 "nbformat": 4,
 "nbformat_minor": 2,
 "cells": [
  {
   "cell_type": "code",
   "execution_count": 386,
   "metadata": {},
   "outputs": [],
   "source": [
    "import matplotlib.pyplot as plt\n",
    "import math\n",
    "import numpy as np \n",
    "import pandas as pd \n",
    "import io \n",
    "import requests\n",
    "import datetime as dt\n"
   ]
  },
  {
   "source": [
    "Các Hàm chuyển đổi đơn vị"
   ],
   "cell_type": "markdown",
   "metadata": {}
  },
  {
   "cell_type": "code",
   "execution_count": 387,
   "metadata": {},
   "outputs": [],
   "source": [
    "\n",
    "#Công thức chuyển từ PPM thành mg/m^3\n",
    "def ConvertAirFrom_PPM_To_mgDivm3(x):\n",
    "    return x*(0.0409)*44\n",
    "#Công thức chuyển từ mg/m^3 thành micro mol/m^3\n",
    "def ConvertAirFrom_mgDivm3_To_UmolDivm3(x):\n",
    "    return x*(1000/44)\n",
    "#Công thức chuyển từ micromol/m^3 thành mg/m^3\n",
    "def ConvertAirFrom_UmolDivm3_To_mgDivm3(x):\n",
    "    return x/(1000/44)\n",
    "#Công thức chuyển từ mg/m^3 thành micro mol/m^3\n",
    "def ConvertAirFrom_mgDivm3_To_UmolDivmol(x):\n",
    "    return x/((0.0409)*44)\n"
   ]
  },
  {
   "cell_type": "code",
   "execution_count": 388,
   "metadata": {},
   "outputs": [],
   "source": [
    "def dx(cap_CO2_Air,cap_CO2_Top,MC_BlowAir,MC_ExtAir,MC_PadAir,MC_AirCan,MC_AirTop,MC_AirOut,MC_TopOut):\n",
    "    global CO2_Air\n",
    "    MC_BlowAir=def_MC_BlowAir(Eta_HeatCO2,U_Blow,P_Blow,A_Flr)\n",
    "    #print(\"MC_BlowAir=\",MC_BlowAir)\n",
    "    #print()\n",
    "\n",
    "    MC_ExtAir=def_MC_ExtAir(U_ExtCO2,Phi_ExtCO2,A_Flr)\n",
    "    #print(\"MC_ExtAir=\",MC_ExtAir)\n",
    "    #print()\n",
    "\n",
    "    MC_PadAir=def_MC_PadAir(U_Pad,Phi_Pad,A_Flr,CO2_Out,CO2_Air)\n",
    "    #print(\"MC_PadAir=\",MC_PadAir)\n",
    "    #print()\n",
    "\n",
    "    f_ThScr=def_f_ThScr(U_ThScr,K_ThScr,Delta_T_AirTop,g,RO_Mean,Delta_RO)\n",
    "    #print(\"f_ThScr=\",f_ThScr)\n",
    "    MC_AirTop=def_MC_AirTop(f_ThScr,CO2_Air,CO2_Top)\n",
    "    #print(\"MC_AirTop=\",MC_AirTop)\n",
    "    #print()\n",
    "\n",
    "    ff_VentSide=def_f_VentRoofSide(C_d,A_Flr,U_Roof,0,U_Side,A_Side,g,h_SideRoof,Delta_T_AirOut,T_mean,C_w,v_Wind) # A_Roof=0\n",
    "    #print(\"ff_VentSide=\",ff_VentSide)\n",
    "    Eta_InsScr=def_Eta_InsScr(Zeta_InsScr)\n",
    "    #print(\"Eta_InscScr=\",Eta_InsScr)\n",
    "    f_leakage=def_f_leakage(v_Wind,C_leakage)\n",
    "    #print(\"f_leakage=\",f_leakage)\n",
    "    f_VentRoofSide=def_f_VentRoofSide(C_d,A_Flr,U_Roof,A_Roof,U_Side,A_Side,g,h_SideRoof,Delta_T_AirOut,T_mean,C_w,v_Wind)\n",
    "    #print(\"f_VentRoofSide=\",f_VentRoofSide)\n",
    "    f_VentForced=def_f_VentForced(Eta_InsScr,U_VentForced,Phi_VentForced,A_Flr)\n",
    "    #print(\"f_VentForced=\",f_VentForced)\n",
    "    f_VentSide=def_f_VentSide(Eta_InsScr,ff_VentSide,f_leakage,U_ThScr,f_VentRoofSide,Eta_Side,Eta_SideThr)\n",
    "    #print(\"f_VentSide=\",f_VentSide)\n",
    "    MC_AirOut=def_MC_AirOut(f_VentSide,f_VentForced,CO2_Air,CO2_Out)\n",
    "    #print(\"MC_AirOut=\",MC_AirOut)\n",
    "    #print()\n",
    "\n",
    "    \n",
    "    ff_VentRoof=def_ff_VentRoof(C_d,U_Roof,A_Roof,A_Flr,g,h_Roof,Delta_T_AirOut,T_mean,C_w,v_Wind)\n",
    "    #print(\"ff_VentRoof=\",ff_VentRoof)\n",
    "    f_VentRoof=def_f_VentRoof(Eta_InsScr,ff_VentRoof,f_leakage,U_ThScr,f_VentRoofSide,Eta_Roof,Eta_RoofThr) \n",
    "    #print(\"f_VentRoof\",f_VentRoof)\n",
    "    # can be changed\n",
    "    MC_TopOut=def_MC_TopOut(f_VentRoof,CO2_Top,CO2_Out)\n",
    "    #print(\"MC_TopOut\",MC_TopOut)\n",
    "    #print()\n",
    "    h_C_Buf=def_h_C_Buf(C_Buf,C_Max_Buf)\n",
    "    #print(\"h_C_Buf\",h_C_Buf)\n",
    "\n",
    "    #Phần quang hợp\n",
    "    #Đổi đơn vị của CO2\n",
    "    CO2_Air=ConvertAirFrom_mgDivm3_To_UmolDivmol(float(CO2_Air))\n",
    "\n",
    "    Gamma=def_Gamma(c_Gamma,T_Can)\n",
    "    #print(\"Gamma=\",Gamma)\n",
    "    CO2_Stom=def_CO2_Stom(Eta_CO2_Air_Stom,CO2_Air)\n",
    "    #print(\"CO2_Stom=\",CO2_Stom)\n",
    "    J_Max_Can=def_J_Max_Can(LAI,J_Max_Leaf)\n",
    "    #print(\"J_Max_Can=\",J_Max_Can)\n",
    "    J_POT=def_J_POT(J_Max_Can,E_j,T_Can,T_25,R,S,H)\n",
    "    #print(\"J_POT=\",J_POT)\n",
    "    J=def_J(J_POT,anpha,PAR_Can,Theta)\n",
    "    #print(\"J=\",J)\n",
    "    P=def_P(J,CO2_Stom,Gamma)\n",
    "    #print(\"P=\",P)\n",
    "    R_HOHAP=0.01*P\n",
    "    MC_AirCan=def_MC_AirCan(M_CH2O,h_C_Buf,P,R_HOHAP)\n",
    "    #print(\"MC_AirCan=\",MC_AirCan)\n",
    "\n",
    "    #đổi lại đơn vị cho CO2_Air\n",
    "    CO2_Air=ConvertAirFrom_PPM_To_mgDivm3(float(CO2_Air))\n",
    "\n",
    "    dx1=(MC_BlowAir+MC_ExtAir+MC_PadAir-MC_AirCan-MC_AirTop-MC_AirOut)/cap_CO2_Air\n",
    "    dx2=(MC_AirTop-MC_TopOut)/cap_CO2_Top\n",
    "    #print()\n",
    "    return [dx1,dx2]"
   ]
  },
  {
   "cell_type": "code",
   "execution_count": 389,
   "metadata": {},
   "outputs": [],
   "source": [
    "def def_MC_BlowAir(Eta_HeatCO2,U_Blow,P_Blow,A_Flr):\n",
    "    return Eta_HeatCO2*U_Blow*P_Blow/A_Flr\n",
    "\n",
    "def def_MC_ExtAir(U_ExtCO2,Phi_ExtCO2,A_Flr):\n",
    "    return U_ExtCO2*Phi_ExtCO2/A_Flr\n",
    "\n",
    "def def_MC_PadAir(U_Pad,Phi_Pad,A_Flr,CO2_Out,CO2_Air):\n",
    "    return U_Pad*Phi_Pad*(CO2_Out-CO2_Air)/A_Flr\n",
    "\n",
    "def def_f_ThScr(U_ThScr,K_ThScr,Delta_T_AirTop,g,RO_Mean,Delta_RO):\n",
    "    return U_ThScr*K_ThScr*((Delta_T_AirTop)**(2/3))+(1-U_ThScr)*(((g*(1-U_ThScr)/(2*RO_Mean))*Delta_RO)**(1/2))\n",
    "\n",
    "def def_MC_AirTop(f_ThScr,CO2_Air,CO2_Top):\n",
    "    return f_ThScr*(CO2_Air-CO2_Top)\n",
    "\n",
    "def def_f_VentRoofSide(C_d,A_Flr,U_Roof,A_Roof,U_Side,A_Side,g,h_SideRoof,Delta_T_AirOut,T_mean,C_w,v_Wind):\n",
    "    component1=C_d/A_Flr\n",
    "    component2=((U_Roof**2)*(U_Side**2)*(A_Roof**2)*(A_Side**2))/((U_Roof**2)*(A_Roof**2)+(U_Side**2)*(A_Side**2))\n",
    "    component3=(2*g*h_SideRoof*Delta_T_AirOut)/T_mean\n",
    "    component4=(((U_Roof*A_Roof+U_Side*A_Side)/2)**2)*C_w*(v_Wind**2)\n",
    "    return component1*((component2*component3+component4)**(1/2))\n",
    "\n",
    "def def_Eta_InsScr(Zeta_InsScr):\n",
    "    return Zeta_InsScr*(2-Zeta_InsScr)\n",
    "\n",
    "def def_f_leakage(v_Wind,C_leakage):\n",
    "    if (v_Wind<0.25):\n",
    "        return 0.25*C_leakage\n",
    "    else:\n",
    "        return v_Wind*C_leakage\n",
    "\n",
    "def def_f_VentForced(Eta_InsScr,U_VentForced,Phi_VentForced,A_Flr):\n",
    "    return Eta_InsScr*U_VentForced*Phi_VentForced/A_Flr\n",
    "\n",
    "def def_f_VentSide(Eta_InsScr,ff_VentSide,f_leakage,U_ThScr,f_VentRoofSide,Eta_Side,Eta_SideThr):\n",
    "    if (Eta_Side>=Eta_SideThr):\n",
    "        return Eta_InsScr*ff_VentSide+0.5*f_leakage\n",
    "    else:\n",
    "        return Eta_InsScr*(U_ThScr*ff_VentSide+(1-U_ThScr)*f_VentRoofSide*Eta_Side)+0.5*f_leakage\n",
    "\n",
    "def def_MC_AirOut(f_VentSide,f_VentForced,CO2_Air,CO2_Out):\n",
    "    return (f_VentSide+f_VentForced)*(CO2_Air-CO2_Out)\n",
    "\n",
    "def def_ff_VentRoof(C_d,U_Roof,A_Roof,A_Flr,g,h_Roof,Delta_T_AirOut,T_mean,C_w,v_Wind):\n",
    "    component1=C_d*U_Roof*A_Roof/(2*A_Flr)\n",
    "    component2=(g*h_Roof*Delta_T_AirOut/(2*T_mean))+C_w*(v_Wind**2)\n",
    "    return component1*(component2**(1/2))\n",
    "\n",
    "def def_f_VentRoof(Eta_InsScr,ff_VentRoof,f_leakage,U_ThScr,f_VentRoofSide,Eta_Roof,Eta_RoofThr):\n",
    "    if (Eta_Roof>=Eta_RoofThr):\n",
    "        return Eta_InsScr*ff_VentRoof+0.5*f_leakage\n",
    "    else:\n",
    "        return Eta_InsScr*(U_ThScr*ff_VentRoof+(1-U_ThScr)*f_VentRoofSide*Eta_Roof)+0.5*f_leakage\n",
    "\n",
    "def def_MC_TopOut(f_VentRoof,CO2_Top,CO2_Out):\n",
    "    return f_VentRoof*(CO2_Top-CO2_Out)\n",
    "\n",
    "def def_h_C_Buf(C_Buf,C_Max_Buf):\n",
    "    if (C_Buf>C_Max_Buf):\n",
    "        return 0\n",
    "    else:\n",
    "        return 1\n",
    "\n",
    "def def_MC_AirCan(M_CH2O,h_C_Buf,P,R_HOHAP):\n",
    "    return M_CH2O*h_C_Buf*(P-R_HOHAP)\n",
    "\n"
   ]
  },
  {
   "source": [
    "Quang Hợp"
   ],
   "cell_type": "markdown",
   "metadata": {}
  },
  {
   "cell_type": "code",
   "execution_count": 390,
   "metadata": {},
   "outputs": [],
   "source": [
    "def def_P(J,CO2_Stom,Gamma):\n",
    "    component1=J*(CO2_Stom-Gamma)\n",
    "    component2=4*(CO2_Stom+2*Gamma)\n",
    "    return component1/component2\n",
    "def def_J(J_POT,anpha,PAR_Can,Theta):\n",
    "    component1=J_POT+anpha*PAR_Can\n",
    "    component2=4*Theta*J_POT*anpha*PAR_Can\n",
    "    return (component1-((component1**2)-component2)**(1/2))/(2*Theta)\n",
    "def def_J_POT(J_Max_Can,E_j,T_Can,T_25,R,S,H):\n",
    "    component1=J_Max_Can*math.exp(E_j*(T_Can-T_25)/(R*T_Can*T_25))\n",
    "    component2=1+math.exp((S*T_25-H)/(R*T_25))\n",
    "    component3=1+math.exp((S*T_Can-H)/(R*T_Can))\n",
    "    return component1*component2/component3\n",
    "def def_J_Max_Can(LAI,J_Max_Leaf):\n",
    "    return LAI*J_Max_Leaf\n",
    "def def_CO2_Stom(Eta_CO2_Air_Stom,CO2_Air):\n",
    "    return Eta_CO2_Air_Stom*CO2_Air\n",
    "def def_Gamma(c_Gamma,T_Can):\n",
    "    return (1/LAI)*c_Gamma*T_Can+20*c_Gamma*(1-1/LAI)\n"
   ]
  },
  {
   "source": [
    "Định nghĩa tham số, hằng số có sẵn:"
   ],
   "cell_type": "markdown",
   "metadata": {}
  },
  {
   "cell_type": "code",
   "execution_count": null,
   "metadata": {},
   "outputs": [],
   "source": []
  },
  {
   "source": [],
   "cell_type": "markdown",
   "metadata": {}
  },
  {
   "source": [
    "Lấy dữ liệu cho các biến cần lấy dữ liệu"
   ],
   "cell_type": "markdown",
   "metadata": {}
  },
  {
   "cell_type": "code",
   "execution_count": 391,
   "metadata": {},
   "outputs": [],
   "source": [
    "#DATA1=pd.read_csv(\"https://raw.githubusercontent.com/CEAOD/Data/master/GH_Cucumber/AutonomousGreenhouseChallengeFirstEdition(2018)/Sonoma/Greenhouse_climate.csv\")\n",
    "#DATA2=pd.read_csv(\"https://raw.githubusercontent.com/CEAOD/Data/master/GH_Cucumber/AutonomousGreenhouseChallengeFirstEdition(2018)/meteo.csv\")\n",
    "DATA1=pd.read_csv(\"Greenhouse_climate.csv\")\n",
    "DATA2=pd.read_csv(\"meteo.csv\")\n",
    "df1=pd.DataFrame(DATA1)\n",
    "df2=pd.DataFrame(DATA2)\n",
    "#df1"
   ]
  },
  {
   "cell_type": "code",
   "execution_count": 392,
   "metadata": {},
   "outputs": [],
   "source": [
    "#df2"
   ]
  },
  {
   "cell_type": "code",
   "execution_count": 75,
   "metadata": {},
   "outputs": [
    {
     "output_type": "execute_result",
     "data": {
      "text/plain": [
       "             GHtime       CO2air\n",
       "0      43326.000000          NaN\n",
       "1      43326.003472          NaN\n",
       "2      43326.006944   427.000000\n",
       "3      43326.010417   443.000000\n",
       "4      43326.013889   443.999999\n",
       "...             ...          ...\n",
       "33128  43441.027778   900.000004\n",
       "33129  43441.031250   965.000000\n",
       "33130  43441.034722  1169.999989\n",
       "33131  43441.038194  1001.000023\n",
       "33132  43441.041667          NaN\n",
       "\n",
       "[33133 rows x 2 columns]"
      ],
      "text/html": "<div>\n<style scoped>\n    .dataframe tbody tr th:only-of-type {\n        vertical-align: middle;\n    }\n\n    .dataframe tbody tr th {\n        vertical-align: top;\n    }\n\n    .dataframe thead th {\n        text-align: right;\n    }\n</style>\n<table border=\"1\" class=\"dataframe\">\n  <thead>\n    <tr style=\"text-align: right;\">\n      <th></th>\n      <th>GHtime</th>\n      <th>CO2air</th>\n    </tr>\n  </thead>\n  <tbody>\n    <tr>\n      <th>0</th>\n      <td>43326.000000</td>\n      <td>NaN</td>\n    </tr>\n    <tr>\n      <th>1</th>\n      <td>43326.003472</td>\n      <td>NaN</td>\n    </tr>\n    <tr>\n      <th>2</th>\n      <td>43326.006944</td>\n      <td>427.000000</td>\n    </tr>\n    <tr>\n      <th>3</th>\n      <td>43326.010417</td>\n      <td>443.000000</td>\n    </tr>\n    <tr>\n      <th>4</th>\n      <td>43326.013889</td>\n      <td>443.999999</td>\n    </tr>\n    <tr>\n      <th>...</th>\n      <td>...</td>\n      <td>...</td>\n    </tr>\n    <tr>\n      <th>33128</th>\n      <td>43441.027778</td>\n      <td>900.000004</td>\n    </tr>\n    <tr>\n      <th>33129</th>\n      <td>43441.031250</td>\n      <td>965.000000</td>\n    </tr>\n    <tr>\n      <th>33130</th>\n      <td>43441.034722</td>\n      <td>1169.999989</td>\n    </tr>\n    <tr>\n      <th>33131</th>\n      <td>43441.038194</td>\n      <td>1001.000023</td>\n    </tr>\n    <tr>\n      <th>33132</th>\n      <td>43441.041667</td>\n      <td>NaN</td>\n    </tr>\n  </tbody>\n</table>\n<p>33133 rows × 2 columns</p>\n</div>"
     },
     "metadata": {},
     "execution_count": 75
    }
   ],
   "source": []
  },
  {
   "cell_type": "code",
   "execution_count": 393,
   "metadata": {},
   "outputs": [
    {
     "output_type": "execute_result",
     "data": {
      "text/plain": [
       "531.000002916902"
      ]
     },
     "metadata": {},
     "execution_count": 393
    }
   ],
   "source": [
    "df=pd.DataFrame()\n",
    "df[['GHtime','CO2air','Tair','VentLee','Ventwind']]=df1[['GHtime','CO2air','Tair','VentLee','Ventwind']]\n",
    "df[['Tout','Windsp']]=df2[['Tout','Windsp']]\n",
    "df['GHtime']=pd.TimedeltaIndex(df['GHtime'],unit='d')+dt.datetime(1899,12,30)\n",
    "#df\n",
    "#df=df.dropna()\n",
    "(df['GHtime'][1]-df['GHtime'][0]).total_seconds()\n",
    "#for i in range(3,len(df['GHtime'])):\n",
    "#    if ((df['GHtime'][i]-df['GHtime'][i-1]).total_seconds()>500)==True:\n",
    "#        print(i)\n",
    "df.dropna(inplace=True)\n",
    "df.reset_index(drop=True,inplace=True)\n",
    "type((df['GHtime'][2]-df['GHtime'][1]).total_seconds())\n",
    "df['CO2air'][943]"
   ]
  },
  {
   "source": [
    "Tham số đã biết"
   ],
   "cell_type": "markdown",
   "metadata": {}
  },
  {
   "cell_type": "code",
   "execution_count": 394,
   "metadata": {},
   "outputs": [],
   "source": [
    "cap_CO2_Air=3.8 #m\n",
    "cap_CO2_Top=0.4 #m \n",
    "A_Flr=14000 #m^2\n",
    "Eta_HeatCO2=0.057 #mg{CO2}*J^(-1)\n",
    "P_Blow=500 #W\n",
    "Phi_ExtCO2=72000 #mg*s^(-1)\n",
    "CO2_Out=668 #mg*m^(-3)\n",
    "Phi_Pad=0 #? #m^3*s^(-1)\n",
    "K_ThScr=0.05*(10**(-3)) #m*K^(-2/3)*s^(-1)\n",
    "g=9.81 #m*s^(-1)\n",
    "Delta_T_AirTop= 1 #? #K\n",
    "RO_Mean= 1.2 #kg*m^(-3) #lấy đại ở thermal\n",
    "Delta_RO=0.0004837 #? #kg*m^(-3)\n",
    "\n",
    "A_Roof=1400 #? #m^2\n",
    "A_Side=1400#? #m^2\n",
    "C_d=0.75 #0.2 #?  #Prediction_of_the_Effect_of_Insect-proof_Screens_o.pdf\n",
    "C_w=0.09 #0.3 #?\n",
    "h_SideRoof=1.9 #m(Chua chac chan)\n",
    "h_Roof=0.68 #m\n",
    "Delta_T_AirOut= 5 #? #K\n",
    "T_mean=298#? #K\n",
    "Zeta_InsScr=1 \n",
    "C_leakage=1*(10**(-4))\n",
    "Eta_SideThr=0.9 #? \n",
    "Eta_RoofThr=0.9 \n",
    "Phi_VentForced= 0 #16.7 #? #m^3*s^(-1)\n",
    "C_Max_Buf=20*(10**3)  #mg{CO2}*m^(-2)\n",
    "C_Buf=10*(10**3) #? #mg{CO2}*m^(-2)\n",
    "M_CH2O=0.03\n",
    "#Quang hợp\n",
    "\n",
    "\n",
    "'''\n",
    "K_T0=8.4\n",
    "T0=298.15\n",
    "Ha=37000\n",
    "R=8.314472\n",
    "Hd=220000\n",
    "S=710\n",
    "Res=250#200\n",
    "L_0_5=500 #406.5\n",
    "L0=2000 #545.45\n",
    "K=1\n",
    "m=0.1\n",
    "CO2_0_5=10000 #20000\n",
    "P_MLT=50 #35\n",
    "LAI=3\n",
    "'''\n",
    "LAI=3\n",
    "c_Gamma=1.7\n",
    "Eta_CO2_Air_Stom=0.67\n",
    "J_Max_Leaf=210 \n",
    "E_j=37000\n",
    "T_25=298.15\n",
    "R=8.314\n",
    "S=710\n",
    "H=220000\n",
    "anpha=0.385\n",
    "PAR_Can=1800 #1367\n",
    "Theta=0.7\n",
    "##valve\n",
    "U_Blow=1\n",
    "U_ExtCO2=0.47\n",
    "U_Pad=1\n",
    "U_ThScr=0.56\n",
    "U_Roof=0.9\n",
    "U_Side=0.9\n",
    "U_VentForced=1\n"
   ]
  },
  {
   "source": [
    "Một số tham số phụ trợ\n"
   ],
   "cell_type": "markdown",
   "metadata": {}
  },
  {
   "cell_type": "code",
   "execution_count": 395,
   "metadata": {},
   "outputs": [],
   "source": [
    "#PT_Max_304=29.138980178262003 # 304độ K"
   ]
  },
  {
   "cell_type": "code",
   "execution_count": 396,
   "metadata": {},
   "outputs": [
    {
     "output_type": "execute_result",
     "data": {
      "text/plain": [
       "531.000002916902"
      ]
     },
     "metadata": {},
     "execution_count": 396
    }
   ],
   "source": [
    "df\n",
    "df['CO2air'][943]"
   ]
  },
  {
   "source": [
    "Khởi tạo biến toàn cục là 0 hết"
   ],
   "cell_type": "markdown",
   "metadata": {}
  },
  {
   "cell_type": "code",
   "execution_count": 397,
   "metadata": {},
   "outputs": [],
   "source": [
    "MC_BlowAir=0\n",
    "MC_ExtAir=0\n",
    "MC_PadAir=0\n",
    "MC_AirCan=0\n",
    "MC_AirTop=0\n",
    "MC_AirOut=0\n",
    "MC_TopOut=0\n",
    "CO2_Air=0\n",
    "CO2_Top=0\n",
    "T=0\n",
    "Eta_Side=0\n",
    "Eta_Roof=0\n",
    "v_Wind=0\n",
    "T_Can=0"
   ]
  },
  {
   "cell_type": "code",
   "execution_count": 398,
   "metadata": {},
   "outputs": [
    {
     "output_type": "stream",
     "name": "stdout",
     "text": [
      "Sau 5 phút:\nThực tế 1007.7759947507432 (mg/m^3)\nDự đoán 1011.8620567893935 (mg/m^3)\nSau 15 phút:\nThực tế 1061.7640000000001 (mg/m^3)\nDự đoán 1074.5112977122546 (mg/m^3)\nSau 40 phút:\nThực tế 1113.9524025944597 (mg/m^3)\nDự đoán 1130.843459879435 (mg/m^3)\nSau 50 phút:\nThực tế 1189.535600181009 (mg/m^3)\nDự đoán 1137.2981433337154 (mg/m^3)\nMean absolute square= 20.44662127605678 (mg/m^3)\n"
     ]
    }
   ],
   "source": [
    "# Lấy giá trị CO2 tại thời điểm bất kỳ sau khi đã loại bỏ các hàng có giá trị NaN (dropna)))\n",
    "#Dòng lấy giá trị\n",
    "Start=943 \n",
    "#Số lượng test.\n",
    "NumberTest=10\n",
    "#Chuyển đổi đơn vị của CO2Air từ ppm sang mg/m^3\n",
    "CO2_Air=float(ConvertAirFrom_PPM_To_mgDivm3(df['CO2air'][Start]))\n",
    "CO2_Top=CO2_Air\n",
    "distance=300\n",
    "#Đưa vào mảng LisOfResult là mảng lưu giá trị sau mỗi thời điểm để chạy giải thuật Euler\n",
    "ListOfResult=[[CO2_Air,CO2_Top]]\n",
    "#Chạy chương trình với khoảng thời gian là 7*300 (s) \n",
    "for i in range(0,(NumberTest)*distance):\n",
    "    # Lấy kết quả CO2air và CO2Top gần nhất để tính toán dx \n",
    "    CO2_Air=ListOfResult[-1][0]\n",
    "    CO2_Top=ListOfResult[-1][1]\n",
    "    # Lấy kết quả các biến thay đổi liên tục. Do nếu giá thời điểm đó chưa có giá trị trong data thì ta sẽ lấy giá trị ở thời điểm 5 phút gần nhất phía trước nên ta sẽ dùng int(i/distance))\n",
    "    T_Air=float(df['Tair'][int(i/distance)+Start]+273)\n",
    "    T_Can=T_Air+1\n",
    "    Eta_Side=float(df['Ventwind'][int(i/distance)+Start]/100)\n",
    "    Eta_Roof=float(df['VentLee'][int(i/distance)+Start]/100)\n",
    "    v_Wind=float(df['Windsp'][int(i/distance)+Start])\n",
    "    #Tính giá trị hàm dx\n",
    "    res_dx=dx(cap_CO2_Air,cap_CO2_Top,MC_BlowAir,MC_ExtAir,MC_PadAir,MC_AirCan,MC_AirTop,MC_AirOut,MC_TopOut)\n",
    "    #Vì khoảng cách tính là 1s nên cho delta_T=1\n",
    "    delta_T=1\n",
    "    #Áp dụng công thức Euler\n",
    "    CO2_next=[res_dx[0]*delta_T+ListOfResult[-1][0],res_dx[1]*delta_T+ListOfResult[-1][1]]\n",
    "    ListOfResult.append(CO2_next)\n",
    "#Lưu kết quả dự đoán vào biến predict\n",
    "Predict=[]\n",
    "for i in range(0,len(ListOfResult)):\n",
    "    if (i%distance==0):\n",
    "        Predict.append(ListOfResult[i][0])\n",
    "        #print(ListOfResult[i])\n",
    "#Lưu kết quả thực tế vào biến actual\n",
    "Actual=[]\n",
    "for i in range(Start,Start+NumberTest+1):\n",
    "    Actual.append(float(ConvertAirFrom_PPM_To_mgDivm3(df['CO2air'][i])))\n",
    "#Một vài giá trị dự đoán\n",
    "#Sau 5 phút:\n",
    "print(\"Sau 5 phút:\")\n",
    "print(\"Thực tế\",Actual[1],\"(mg/m^3)\")\n",
    "print(\"Dự đoán\",Predict[1],\"(mg/m^3)\")\n",
    "print(\"Sau 15 phút:\")\n",
    "print(\"Thực tế\",Actual[3],\"(mg/m^3)\")\n",
    "print(\"Dự đoán\",Predict[3],\"(mg/m^3)\")\n",
    "print(\"Sau 40 phút:\")\n",
    "print(\"Thực tế\",Actual[8],\"(mg/m^3)\")\n",
    "print(\"Dự đoán\",Predict[8],\"(mg/m^3)\")\n",
    "print(\"Sau 50 phút:\")\n",
    "print(\"Thực tế\",Actual[10],\"(mg/m^3)\")\n",
    "print(\"Dự đoán\",Predict[10],\"(mg/m^3)\")\n",
    "#Tính sai số theo Mean absolute error từ phút thứ 5 đến phút thứ 40\n",
    "#Giá trị đầu lấy từ data nếu không tính là dự đoán\n",
    "MAE=0\n",
    "for i in range(1,NumberTest+1):\n",
    "    MAE=MAE+abs(Predict[i]-Actual[i])\n",
    "MAE=MAE/NumberTest\n",
    "#Kết quả sai số  trung bình cả đoạn theo Mean absolute error\n",
    "print(\"Mean absolute square=\",MAE,\"(mg/m^3)\")\n"
   ]
  },
  {
   "source": [],
   "cell_type": "markdown",
   "metadata": {}
  }
 ]
}