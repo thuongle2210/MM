{
  "nbformat": 4,
  "nbformat_minor": 0,
  "metadata": {
    "kernelspec": {
      "display_name": "Python 3",
      "language": "python",
      "name": "python3"
    },
    "language_info": {
      "codemirror_mode": {
        "name": "ipython",
        "version": 3
      },
      "file_extension": ".py",
      "mimetype": "text/x-python",
      "name": "python",
      "nbconvert_exporter": "python",
      "pygments_lexer": "ipython3",
      "version": "3.6.2"
    },
    "toc": {
      "nav_menu": {},
      "number_sections": true,
      "sideBar": true,
      "skip_h1_title": false,
      "toc_cell": false,
      "toc_position": {},
      "toc_section_display": "block",
      "toc_window_display": false
    },
    "colab": {
      "name": "stiff_ODE_system (2).ipynb",
      "provenance": [],
      "collapsed_sections": []
    }
  },
  "cells": [
    {
      "cell_type": "code",
      "metadata": {
        "id": "MKev7hpKyWCm"
      },
      "source": [
        "%matplotlib inline\n",
        "from matplotlib import pyplot as plt\n",
        "import seaborn as sns; sns.set()\n",
        "\n",
        "import autograd.numpy as np\n",
        "from autograd import grad \n",
        "\n",
        "# element-wise gradient is a standard-alone function in v1.2\n",
        "from autograd import elementwise_grad as egrad\n",
        "\n",
        "import autograd.numpy.random as npr\n",
        "from autograd.misc.flatten import flatten_func, flatten\n",
        "\n",
        "from scipy.integrate import solve_ivp # for comparision\n",
        "from scipy.optimize import minimize\n",
        "import numpy\n",
        "import math"
      ],
      "execution_count": null,
      "outputs": []
    },
    {
      "cell_type": "code",
      "metadata": {
        "collapsed": true,
        "id": "utf5IIN0yWCp"
      },
      "source": [
        "\n",
        "# figure settings\n",
        "plt.rcParams[\"figure.figsize\"] = (6,4)\n",
        "plt.rcParams['legend.fontsize'] = 13\n",
        "\n",
        "plt.rcParams['xtick.labelsize'] = 13\n",
        "plt.rcParams['ytick.labelsize'] = 13\n",
        "\n",
        "plt.rcParams['axes.titlesize'] = 20\n",
        "plt.rcParams['axes.labelsize'] = 13"
      ],
      "execution_count": null,
      "outputs": []
    },
    {
      "cell_type": "code",
      "metadata": {
        "id": "Jkgmt74B_82d"
      },
      "source": [
        "t0, tmax = [0, 2]\n",
        "\n",
        "#y0_list = [1, 0] # rapid increase and then decay. Can't solve by NN!\n",
        "y0_list = [2, -1] # simply decay. Can be solved by NN easily"
      ],
      "execution_count": null,
      "outputs": []
    },
    {
      "cell_type": "code",
      "metadata": {
        "collapsed": true,
        "id": "tptdfTzWyWCq"
      },
      "source": [
        "def f(t, y):\n",
        "    '''\n",
        "        dy/dt = f(t, y)\n",
        "        This is f() function on the right\n",
        "    '''    \n",
        "    \n",
        "    return [998*y[0] + 1998*y[1], -999*y[0] - 1999*y[1]]"
      ],
      "execution_count": null,
      "outputs": []
    },
    {
      "cell_type": "markdown",
      "metadata": {
        "id": "ErVDVZKbyWCv"
      },
      "source": [
        "# Build NN"
      ]
    },
    {
      "cell_type": "code",
      "metadata": {
        "collapsed": true,
        "id": "xHX6-15DyWCv"
      },
      "source": [
        "t = np.linspace(0, 5.0,10).reshape(-1,1) # training points"
      ],
      "execution_count": null,
      "outputs": []
    },
    {
      "cell_type": "code",
      "metadata": {
        "colab": {
          "base_uri": "https://localhost:8080/"
        },
        "id": "U2I60AckyWCv",
        "outputId": "fb77e179-bff3-45b4-a1c1-daf77978c13c"
      },
      "source": [
        "def init_weights(n_in=1, n_hidden=10, n_out=1):\n",
        "    W1 = npr.randn(n_in, n_hidden)\n",
        "    b1 = np.zeros(n_hidden)\n",
        "    W2 = npr.randn(n_hidden, n_out)\n",
        "    b2 = np.zeros(n_out)\n",
        "    params = [W1, b1, W2, b2]\n",
        "    return params\n",
        "\n",
        "params1 = init_weights()\n",
        "params2 = init_weights()\n",
        "params_list = [params1, params2]\n",
        "print([ p.shape for p in params1 ])"
      ],
      "execution_count": null,
      "outputs": [
        {
          "output_type": "stream",
          "text": [
            "[(1, 10), (10,), (10, 1), (1,)]\n"
          ],
          "name": "stdout"
        }
      ]
    },
    {
      "cell_type": "code",
      "metadata": {
        "collapsed": true,
        "id": "Kj8Rclk_yWCw"
      },
      "source": [
        "def predict(params, t, y0, act=np.tanh):\n",
        "    W1, b1, W2, b2 = params\n",
        "    \n",
        "    a = act(np.dot(t, W1) + b1)\n",
        "    y = np.dot(a, W2) + b2\n",
        "    \n",
        "    phi = y0 + t*y\n",
        "    \n",
        "    return phi"
      ],
      "execution_count": null,
      "outputs": []
    },
    {
      "cell_type": "code",
      "metadata": {
        "colab": {
          "base_uri": "https://localhost:8080/"
        },
        "id": "y7lJuZW-yWCw",
        "outputId": "7143a004-52e8-4c3f-9c43-5c9dd970de2b"
      },
      "source": [
        "predict(params1, t, y0_list[1]).shape # vectorized over t"
      ],
      "execution_count": null,
      "outputs": [
        {
          "output_type": "execute_result",
          "data": {
            "text/plain": [
              "(10, 1)"
            ]
          },
          "metadata": {
            "tags": []
          },
          "execution_count": 411
        }
      ]
    },
    {
      "cell_type": "code",
      "metadata": {
        "collapsed": true,
        "id": "lFYn-Q8hyWCw"
      },
      "source": [
        "predict_dt = egrad(predict, argnum=1) # element-wise grad w.r.t t, "
      ],
      "execution_count": null,
      "outputs": []
    },
    {
      "cell_type": "code",
      "metadata": {
        "colab": {
          "base_uri": "https://localhost:8080/"
        },
        "id": "1a3o06lvyWCw",
        "outputId": "bc741ecb-6d0a-4fb0-b0c9-5a1aaba85210"
      },
      "source": [
        "predict_dt(params1, t, y0_list[1]).shape"
      ],
      "execution_count": null,
      "outputs": [
        {
          "output_type": "execute_result",
          "data": {
            "text/plain": [
              "(10, 1)"
            ]
          },
          "metadata": {
            "tags": []
          },
          "execution_count": 413
        }
      ]
    },
    {
      "cell_type": "code",
      "metadata": {
        "colab": {
          "base_uri": "https://localhost:8080/",
          "height": 292
        },
        "id": "9FqKfhfmyWCx",
        "outputId": "c56073df-6057-4762-a46a-0bf721b1914c"
      },
      "source": [
        "plt.plot(predict(params1, t, y0_list[0]))\n",
        "plt.plot(predict_dt(params1, t, y0_list[0]))\n",
        "plt.plot(predict(params2, t, y0_list[1]))\n",
        "plt.plot(predict_dt(params2, t, y0_list[1]))"
      ],
      "execution_count": null,
      "outputs": [
        {
          "output_type": "execute_result",
          "data": {
            "text/plain": [
              "[<matplotlib.lines.Line2D at 0x7f249ba05ac8>]"
            ]
          },
          "metadata": {
            "tags": []
          },
          "execution_count": 414
        },
        {
          "output_type": "display_data",
          "data": {
            "image/png": "[encoded data removed]",
            "text/plain": [
              "<Figure size 432x288 with 1 Axes>"
            ]
          },
          "metadata": {
            "tags": []
          }
        }
      ]
    },
    {
      "cell_type": "code",
      "metadata": {
        "collapsed": true,
        "id": "15j9G7dtyWCx"
      },
      "source": [
        "def loss_func(params_list, t, y0_list):\n",
        "    \n",
        "    \n",
        "    y_pred_list = []\n",
        "    dydt_pred_list = []\n",
        "    for params, y0 in zip(params_list, y0_list):\n",
        "        y_pred =  predict(params, t, y0)\n",
        "        dydt_pred = predict_dt(params, t, y0)\n",
        "        \n",
        "        y_pred_list.append(y_pred)\n",
        "        dydt_pred_list.append(dydt_pred)\n",
        "        \n",
        "    f_pred_list = f(t, y_pred_list)\n",
        "    \n",
        "    loss_total = 0.0\n",
        "    for f_pred, dydt_pred in zip(f_pred_list, dydt_pred_list):\n",
        "        loss = np.sum((dydt_pred-f_pred)**2)\n",
        "        loss_total += loss\n",
        "    #print(\"y_pred[0]\",predict(params_list[0], t, y0_list[0]))\n",
        "    return loss_total/(2*len(f_pred))"
      ],
      "execution_count": null,
      "outputs": []
    },
    {
      "cell_type": "code",
      "metadata": {
        "colab": {
          "base_uri": "https://localhost:8080/"
        },
        "id": "Xe8h7FuxyWCy",
        "outputId": "40fadfe4-8a57-41f0-a4f7-f7e02280ba5d"
      },
      "source": [
        "loss_func(params_list, t, y0_list)"
      ],
      "execution_count": null,
      "outputs": [
        {
          "output_type": "execute_result",
          "data": {
            "text/plain": [
              "918740.2031640075"
            ]
          },
          "metadata": {
            "tags": []
          },
          "execution_count": 416
        }
      ]
    },
    {
      "cell_type": "code",
      "metadata": {
        "collapsed": true,
        "id": "CVbCGlluyWCy"
      },
      "source": [
        "flattened_params, unflat_func = flatten(params_list)"
      ],
      "execution_count": null,
      "outputs": []
    },
    {
      "cell_type": "code",
      "metadata": {
        "collapsed": true,
        "id": "jcSd0WyryWCy"
      },
      "source": [
        "def loss_part(flattened_params):\n",
        "    '''make partial function. \n",
        "    Use this simple method because\n",
        "    autograd or scipy does not like functool.partial'''\n",
        "    \n",
        "    params_list = unflat_func(flattened_params) # recover\n",
        "    \n",
        "    # warning: global t and y0 are used\n",
        "    return loss_func(params_list, t, y0_list)"
      ],
      "execution_count": null,
      "outputs": []
    },
    {
      "cell_type": "code",
      "metadata": {
        "colab": {
          "base_uri": "https://localhost:8080/"
        },
        "id": "lDy3AU7iyWCz",
        "outputId": "4ec60d37-c1cd-49e5-c9e1-13940490b5a8"
      },
      "source": [
        "loss_part(flattened_params)"
      ],
      "execution_count": null,
      "outputs": [
        {
          "output_type": "execute_result",
          "data": {
            "text/plain": [
              "918740.2031640075"
            ]
          },
          "metadata": {
            "tags": []
          },
          "execution_count": 419
        }
      ]
    },
    {
      "cell_type": "code",
      "metadata": {
        "collapsed": true,
        "id": "aIwOwhrryWCz"
      },
      "source": [
        "loss_part_grad = grad(loss_part)"
      ],
      "execution_count": null,
      "outputs": []
    },
    {
      "cell_type": "code",
      "metadata": {
        "colab": {
          "base_uri": "https://localhost:8080/"
        },
        "id": "9laA74KfyWCz",
        "outputId": "02129f68-b867-4ea5-8a7f-4c7bb0f7752e"
      },
      "source": [
        "loss_part_grad(flattened_params).shape"
      ],
      "execution_count": null,
      "outputs": [
        {
          "output_type": "execute_result",
          "data": {
            "text/plain": [
              "(62,)"
            ]
          },
          "metadata": {
            "tags": []
          },
          "execution_count": 421
        }
      ]
    },
    {
      "cell_type": "code",
      "metadata": {
        "colab": {
          "base_uri": "https://localhost:8080/"
        },
        "id": "g_k_eQrqyWC0",
        "outputId": "7fd08ffd-332c-4b71-b0ec-17cfa59da00f"
      },
      "source": [
        "%%time\n",
        "count = 0\n",
        "def print_loss(x):\n",
        "    global count\n",
        "    if count %200 == 0:  \n",
        "        print(\"iteration:\", count, \"loss: \", loss_part(x))\n",
        "    count += 1\n",
        "        \n",
        "o = minimize(loss_part, x0=flattened_params, jac=loss_part_grad, \n",
        "             method=\"BFGS\", callback=print_loss, \n",
        "             options = {'gtol':0.0005,'disp': True, 'maxiter': 2000})"
      ],
      "execution_count": null,
      "outputs": [
        {
          "output_type": "stream",
          "text": [
            "iteration: 0 loss:  730991.4915101675\n",
            "iteration: 200 loss:  0.004222957070222492\n",
            "iteration: 400 loss:  0.0006666029118634073\n",
            "iteration: 600 loss:  3.4202565553695e-05\n",
            "iteration: 800 loss:  1.514917404420036e-05\n",
            "Warning: Desired error not necessarily achieved due to precision loss.\n",
            "         Current function value: 0.000014\n",
            "         Iterations: 912\n",
            "         Function evaluations: 1062\n",
            "         Gradient evaluations: 1050\n",
            "CPU times: user 7.48 s, sys: 13 ms, total: 7.49 s\n",
            "Wall time: 7.5 s\n"
          ],
          "name": "stdout"
        }
      ]
    },
    {
      "cell_type": "code",
      "metadata": {
        "colab": {
          "base_uri": "https://localhost:8080/"
        },
        "id": "aqxi55_syWC0",
        "outputId": "ec1da71d-46dc-4ff1-fcaf-93d14b4635fe"
      },
      "source": [
        "loss_part(o.x)"
      ],
      "execution_count": null,
      "outputs": [
        {
          "output_type": "execute_result",
          "data": {
            "text/plain": [
              "1.3531395078354393e-05"
            ]
          },
          "metadata": {
            "tags": []
          },
          "execution_count": 423
        }
      ]
    },
    {
      "cell_type": "code",
      "metadata": {
        "colab": {
          "base_uri": "https://localhost:8080/"
        },
        "id": "0nr9Po0HyWC0",
        "outputId": "9baeda5c-6575-4789-c608-8275392eb5f9"
      },
      "source": [
        "print(o.fun, o.njev, o.nfev, '\\n', o.message)"
      ],
      "execution_count": null,
      "outputs": [
        {
          "output_type": "stream",
          "text": [
            "1.3531395078354393e-05 1050 1062 \n",
            " Desired error not necessarily achieved due to precision loss.\n"
          ],
          "name": "stdout"
        }
      ]
    },
    {
      "cell_type": "code",
      "metadata": {
        "collapsed": true,
        "id": "gNyh9ostyWC1"
      },
      "source": [
        "params1_opt, params2_opt = unflat_func(o.x)"
      ],
      "execution_count": null,
      "outputs": []
    },
    {
      "cell_type": "code",
      "metadata": {
        "id": "EwhL_TFR6H7O"
      },
      "source": [
        "class RES:\n",
        "  def __init__(self,t):\n",
        "    self.t=t\n",
        "    self.y=[[],[]]\n",
        "    self.y[0]=[2*math.exp(-k) for k in t]\n",
        "    self.y[1]=[-math.exp(-k) for k in t]\n",
        "sol=RES(numpy.arange(0,5,5/12))\n"
      ],
      "execution_count": null,
      "outputs": []
    },
    {
      "cell_type": "code",
      "metadata": {
        "colab": {
          "base_uri": "https://localhost:8080/",
          "height": 309
        },
        "id": "AGG-f4FfyWC1",
        "outputId": "dd15f58a-ae41-4bf9-d9ea-c9d5f8f0ce37"
      },
      "source": [
        "plt.plot(sol.t, sol.y[0], label='Solution - y1')\n",
        "\n",
        "plt.plot(sol.t, sol.y[1], label='Solution - y2')\n",
        "\n",
        "plt.plot(t, predict(params1_opt, t, y0_list[0]), 'o', label='NN Solver - y1')\n",
        "plt.plot(t, predict(params2_opt, t, y0_list[1]), 'o', label='NN Solver - y2')\n",
        "\n",
        "plt.legend()\n",
        "plt.title('Neural Net Approximation of stiff ODE')\n",
        "plt.xlabel('Time')\n",
        "plt.savefig(\"stiff_ANN.png\", dpi=300)"
      ],
      "execution_count": null,
      "outputs": [
        {
          "output_type": "display_data",
          "data": {
            "image/png": "[encoded data removed]",
            "text/plain": [
              "<Figure size 432x288 with 1 Axes>"
            ]
          },
          "metadata": {
            "tags": []
          }
        }
      ]
    },
    {
      "cell_type": "markdown",
      "metadata": {
        "id": "6AZXKpW27iib"
      },
      "source": [
        ""
      ]
    },
    {
      "cell_type": "code",
      "metadata": {
        "collapsed": true,
        "colab": {
          "base_uri": "https://localhost:8080/"
        },
        "id": "P-oIaLlWyWC2",
        "outputId": "16e969ba-daf2-490f-b833-dd3c9f0513d4"
      },
      "source": [
        "print(sol.t)\n",
        "print(sol.y[1])"
      ],
      "execution_count": null,
      "outputs": [
        {
          "output_type": "stream",
          "text": [
            "[0.         0.41666667 0.83333333 1.25       1.66666667 2.08333333\n",
            " 2.5        2.91666667 3.33333333 3.75       4.16666667 4.58333333]\n",
            "[-1.0, -0.6592406302004438, -0.4345982085070782, -0.2865047968601901, -0.18887560283756183, -0.12451447144412296, -0.0820849986238988, -0.05411376622282158, -0.035673993347252395, -0.023517745856009107, -0.015503853599009314, -0.010220770217146315]\n"
          ],
          "name": "stdout"
        }
      ]
    },
    {
      "cell_type": "code",
      "metadata": {
        "colab": {
          "base_uri": "https://localhost:8080/",
          "height": 310
        },
        "id": "pBbgvNTayWC1",
        "outputId": "2551ab48-7e7a-44ea-91de-c47adb718033"
      },
      "source": [
        "dy=[[],[]]\n",
        "for i in range(len(sol.t)):\n",
        "  dy[0].append((f(sol.t,[sol.y[0][i],sol.y[1][i]])[0]))\n",
        "  dy[1].append((f(sol.t,[sol.y[0][i],sol.y[1][i]])[1]))\n",
        "\n",
        "plt.plot(sol.t, dy[0])\n",
        "plt.plot(t, predict_dt(params1_opt, t, y0_list[0]), 'o')\n",
        "\n",
        "plt.plot(sol.t, dy[1])\n",
        "plt.plot(t, predict_dt(params2_opt, t, y0_list[1]), 'o')\n",
        "\n",
        "plt.title('dy/dt')"
      ],
      "execution_count": null,
      "outputs": [
        {
          "output_type": "execute_result",
          "data": {
            "text/plain": [
              "Text(0.5, 1.0, 'dy/dt')"
            ]
          },
          "metadata": {
            "tags": []
          },
          "execution_count": 429
        },
        {
          "output_type": "display_data",
          "data": {
            "image/png": "[encoded data removed]",
            "text/plain": [
              "<Figure size 432x288 with 1 Axes>"
            ]
          },
          "metadata": {
            "tags": []
          }
        }
      ]
    },
    {
      "cell_type": "code",
      "metadata": {
        "id": "imWHc4958GTq"
      },
      "source": [
        ""
      ],
      "execution_count": null,
      "outputs": []
    }
  ]
}