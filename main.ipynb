{
 "metadata": {
  "language_info": {
   "codemirror_mode": {
    "name": "ipython",
    "version": 3
   },
   "file_extension": ".py",
   "mimetype": "text/x-python",
   "name": "python",
   "nbconvert_exporter": "python",
   "pygments_lexer": "ipython3",
   "version": "3.8.5-final"
  },
  "orig_nbformat": 2,
  "kernelspec": {
   "name": "python3",
   "display_name": "Python 3",
   "language": "python"
  }
 },
 "nbformat": 4,
 "nbformat_minor": 2,
 "cells": [
  {
   "cell_type": "code",
   "execution_count": 113,
   "metadata": {},
   "outputs": [],
   "source": [
    "import matplotlib.pyplot as plt\n",
    "import math\n",
    "import numpy as np \n",
    "import pandas as pd \n",
    "import io \n",
    "import requests\n",
    "import datetime as dt\n"
   ]
  },
  {
   "source": [
    "Viết Phương trình"
   ],
   "cell_type": "markdown",
   "metadata": {}
  },
  {
   "cell_type": "code",
   "execution_count": 114,
   "metadata": {},
   "outputs": [],
   "source": [
    "def dx(cap_CO2_Air,cap_CO2_Top,MC_BlowAir,MC_ExtAir,MC_PadAir,MC_AirCan,MC_AirTop,MC_AirOut,MC_TopOut):\n",
    "    MC_BlowAir=def_MC_BlowAir(Eta_HeatCO2,U_Blow,P_Blow,A_Flr)\n",
    "    print(MC_BlowAir)\n",
    "    MC_ExtAir=def_MC_ExtAir(U_ExtCO2,Phi_ExtCO2,A_Flr)\n",
    "    \n",
    "    MC_PadAir=def_MC_PadAir(U_Pad,Phi_Pad,A_Flr,CO2_Out,CO2_Air)\n",
    "\n",
    "    f_ThScr=def_f_ThScr(U_ThScr,K_ThScr,Delta_T_AirTop,g,RO_Mean,Delta_RO)\n",
    "    MC_AirTop=def_MC_AirTop(f_ThScr,CO2_Air,CO2_Top)\n",
    "\n",
    "    ff_VentSide=def_f_VentRoofSide(C_d,A_Flr,U_Roof,0,U_Side,A_Side,g,h_SideRoof,Delta_T_AirOut,T_mean,C_w,v_Wind) # A_Roof=0\n",
    "    Eta_InsScr=def_Eta_InsScr(Zeta_InsScr)\n",
    "    f_leakage=def_f_leakage(v_Wind,C_leakage)\n",
    "    f_VentRoofSide=def_f_VentRoofSide(C_d,A_Flr,U_Roof,A_Roof,U_Side,A_Side,g,h_SideRoof,Delta_T_AirOut,T_mean,C_w,v_Wind)\n",
    "    f_VentForced=def_f_VentForced(Eta_InsScr,U_VentForced,Phi_VentForced,A_Flr)\n",
    "    f_VentSide=def_f_VentSide(Eta_InsScr,ff_VentSide,f_leakage,U_ThScr,f_VentRoofSide,Eta_Side,Eta_SideThr)\n",
    "    MC_AirOut=def_MC_AirOut(f_VentSide,f_VentForced,CO2_Air,CO2_Out)\n",
    "\n",
    "\n",
    "    ff_VentRoof=def_ff_VentRoof(C_d,U_Roof,A_Roof,A_Flr,g,h_Roof,Delta_T_AirOut,T_mean,C_w,v_Wind)\n",
    "    f_VentRoof=def_f_VentRoof(Eta_InsScr,ff_VentRoof,f_leakage,U_ThScr,f_VentRoofSide,Eta_Roof,Eta_RoofThr) \n",
    "    # can be changed\n",
    "    MC_TopOut=def_MC_TopOut(f_VentRoof,CO2_Top,CO2_Out)\n",
    "    \n",
    "    h_C_Buf=def_h_C_Buf(C_Buf,C_Max_Buf)\n",
    "    L=def_L(L0,K,LAI,m)\n",
    "    fT=def_f(Hd,R,T,T0,S)\n",
    "    KT=def_KT_WithLAI(LAI,K_T0,Ha,R,T,T0)\n",
    "    PT_Max=def_PT_Max(KT,fT)\n",
    "    P_Max_LT=def_PMax_LT(P_MLT,PT_Max,L,L_0_5)\n",
    "    P=def_P(CO2_Air,CO2_0_5,Res,P_Max_LT)\n",
    "    R_HOHAP=0.01*P\n",
    "    MC_AirCan=def_MC_AirCan(M_CH2O,h_C_Buf,P,R_HOHAP)\n",
    "    \n",
    "\n",
    "    dx1=(MC_BlowAir+MC_ExtAir+MC_PadAir-MC_AirCan-MC_AirTop-MC_AirOut)/cap_CO2_Air\n",
    "    dx2=(MC_AirTop-MC_TopOut)/cap_CO2_Top\n",
    "    return [dx1,dx2]"
   ]
  },
  {
   "cell_type": "code",
   "execution_count": 115,
   "metadata": {},
   "outputs": [],
   "source": [
    "def def_MC_BlowAir(Eta_HeatCO2,U_Blow,P_Blow,A_Flr):\n",
    "    return Eta_HeatCO2*U_Blow*P_Blow/A_Flr\n",
    "\n",
    "def def_MC_ExtAir(U_ExtCO2,Phi_ExtCO2,A_Flr):\n",
    "    return U_ExtCO2*Phi_ExtCO2/A_Flr\n",
    "\n",
    "def def_MC_PadAir(U_Pad,Phi_Pad,A_Flr,CO2_Out,CO2_Air):\n",
    "    return U_Pad*Phi_Pad*(CO2_Out-CO2_Air)/A_Flr\n",
    "\n",
    "def def_f_ThScr(U_ThScr,K_ThScr,Delta_T_AirTop,g,RO_Mean,Delta_RO):\n",
    "    return U_ThScr*K_ThScr*((Delta_T_AirTop)**(2/3))+(1-U_ThScr)*(((g*(1-U_ThScr)/(2*RO_Mean))*Delta_RO)**(1/2))\n",
    "\n",
    "def def_MC_AirTop(f_ThScr,CO2_Air,CO2_Top):\n",
    "    return f_ThScr*(CO2_Air-CO2_Top)\n",
    "\n",
    "def def_f_VentRoofSide(C_d,A_Flr,U_Roof,A_Roof,U_Side,A_Side,g,h_SideRoof,Delta_T_AirOut,T_mean,C_w,v_Wind):\n",
    "    component1=C_d/A_Flr\n",
    "    component2=((U_Roof**2)*(U_Side**2)*(A_Roof**2)*(A_Side**2))/((U_Roof**2)*(A_Roof**2)+(U_Side**2)*(A_Side**2))\n",
    "    component3=(2*g*h_SideRoof*Delta_T_AirOut)/T_mean\n",
    "    component4=(((U_Roof*A_Roof+U_Side*A_Side)/2)**2)*C_w*(v_Wind**2)\n",
    "    return component1*((component2*component3+component4)**(1/2))\n",
    "\n",
    "def def_Eta_InsScr(Zeta_InsScr):\n",
    "    return Zeta_InsScr*(2-Zeta_InsScr)\n",
    "\n",
    "def def_f_leakage(v_Wind,C_leakage):\n",
    "    if (v_Wind<0.25):\n",
    "        return 0.25*C_leakage\n",
    "    else:\n",
    "        return v_Wind*C_leakage\n",
    "\n",
    "def def_f_VentForced(Eta_InsScr,U_VentForced,Phi_VentForced,A_Flr):\n",
    "    return Eta_InsScr*U_VentForced*Phi_VentForced/A_Flr\n",
    "\n",
    "def def_f_VentSide(Eta_InsScr,ff_VentSide,f_leakage,U_ThScr,f_VentRoofSide,Eta_Side,Eta_SideThr):\n",
    "    if (Eta_Side>=Eta_SideThr):\n",
    "        return Eta_InsScr*ff_VentSide+0.5*f_leakage\n",
    "    else:\n",
    "        return Eta_InsScr*(U_ThScr*ff_VentSide+(1-U_ThScr)*f_VentRoofSide*Eta_Side)+0.5*f_leakage\n",
    "\n",
    "def def_MC_AirOut(f_VentSide,f_VentForced,CO2_Air,CO2_Out):\n",
    "    return (f_VentSide+f_VentForced)*(CO2_Air-CO2_Out)\n",
    "\n",
    "def def_ff_VentRoof(C_d,U_Roof,A_Roof,A_Flr,g,h_Roof,Delta_T_AirOut,T_mean,C_w,v_Wind):\n",
    "    component1=C_d*U_Roof*A_Roof/(2*A_Flr)\n",
    "    component2=(g*h_Roof*Delta_T_AirOut/(2*T_mean))+C_w*(v_Wind**2)\n",
    "    return component1*(component2**(1/2))\n",
    "\n",
    "def def_f_VentRoof(Eta_InsScr,ff_VentRoof,f_leakage,U_ThScr,f_VentRoofSide,Eta_Roof,Eta_RoofThr):\n",
    "    if (Eta_Roof>=Eta_RoofThr):\n",
    "        return Eta_InsScr*ff_VentRoof+0.5*f_leakage\n",
    "    else:\n",
    "        return Eta_InsScr*(U_ThScr*ff_VentRoof+(1-U_ThScr)*f_VentRoofSide*Eta_Roof)+0.5*f_leakage\n",
    "\n",
    "def def_MC_TopOut(f_VentRoof,CO2_Top,CO2_Out):\n",
    "    return f_VentRoof*(CO2_Top-CO2_Out)\n",
    "\n",
    "def def_h_C_Buf(C_Buf,C_Max_Buf):\n",
    "    if (C_Buf>C_Max_Buf):\n",
    "        return 0\n",
    "    else:\n",
    "        return 1\n",
    "\n",
    "def def_MC_AirCan(M_CH2O,h_C_Buf,P,R):\n",
    "    return M_CH2O*h_C_Buf*(P-R)\n",
    "\n"
   ]
  },
  {
   "source": [
    "Quang Hợp"
   ],
   "cell_type": "markdown",
   "metadata": {}
  },
  {
   "cell_type": "code",
   "execution_count": 116,
   "metadata": {},
   "outputs": [],
   "source": [
    "def def_P(CO2_Air,CO2_0_5,Res,P_Max_LT):\n",
    "    return ((CO2_Air+CO2_0_5+Res*P_Max_LT)-((CO2_Air+CO2_0_5+Res*P_Max_LT)**2-4*CO2_Air*Res*P_Max_LT))**(1/2)/(2*Res)\n",
    "def def_K(K_T0,Ha,R,T,T0):\n",
    "    return K_T0*math.exp((-Ha/R)*(1/T-1/T0))\n",
    "def def_f(Hd,R,T,T0,S):\n",
    "    component1=1+math.exp((-Hd/R)*(1/T0-1/(Hd/S)))\n",
    "    component2=1+math.exp((-Hd/R)*(1/T-1/(Hd/S)))\n",
    "    return component1/component2\n",
    "def def_PT_Max(KT,fT):\n",
    "    return KT*fT\n",
    "def def_L(L0,K,LAI,m):\n",
    "    return L0*(1-(K*math.exp(-K*LAI))/(1-m))\n",
    "def def_KT_WithLAI(LAI,K_T0,Ha,R,T,T0):\n",
    "    return LAI*K_T0*math.exp((-Ha/R)*(1/T-1/T0))\n",
    "def def_PMax_LT(P_MLT,PT_Max,L,L_0_5):\n",
    "    return P_MLT*PT_Max*L/(L+L_0_5)\n"
   ]
  },
  {
   "source": [
    "Định nghĩa tham số, hằng số có sẵn:"
   ],
   "cell_type": "markdown",
   "metadata": {}
  },
  {
   "cell_type": "code",
   "execution_count": null,
   "metadata": {},
   "outputs": [],
   "source": []
  },
  {
   "source": [],
   "cell_type": "markdown",
   "metadata": {}
  },
  {
   "source": [
    "Lấy dữ liệu cho các biến cần lấy dữ liệu"
   ],
   "cell_type": "markdown",
   "metadata": {}
  },
  {
   "cell_type": "code",
   "execution_count": 117,
   "metadata": {},
   "outputs": [
    {
     "output_type": "execute_result",
     "data": {
      "text/plain": [
       "       AssimLight  BlackScr       CO2air  EnScr        GHtime  HumDef  \\\n",
       "0             NaN       NaN          NaN    NaN  43326.000000     NaN   \n",
       "1             NaN       NaN          NaN    NaN  43326.003472     NaN   \n",
       "2             0.0       0.0   427.000000    0.0  43326.006944    3.34   \n",
       "3             0.0       0.0   443.000000    0.0  43326.010417    3.36   \n",
       "4             0.0       0.0   443.999999    0.0  43326.013889    3.29   \n",
       "...           ...       ...          ...    ...           ...     ...   \n",
       "33128       100.0     100.0   900.000004    0.0  43441.027778    3.41   \n",
       "33129       100.0     100.0   965.000000    0.0  43441.031250    3.26   \n",
       "33130       100.0     100.0  1169.999989    0.0  43441.034722    3.25   \n",
       "33131       100.0     100.0  1001.000023    0.0  43441.038194    3.32   \n",
       "33132         NaN       NaN          NaN    NaN  43441.041667     NaN   \n",
       "\n",
       "       PipeGrow  PipeLow  RHair  Tair    VentLee  Ventwind  \n",
       "0           NaN      NaN    NaN   NaN        NaN       NaN  \n",
       "1           NaN      NaN    NaN   NaN        NaN       NaN  \n",
       "2           0.0      0.0   80.4  19.9  52.900000       2.9  \n",
       "3           0.0      0.0   80.4  19.9  52.900000       2.9  \n",
       "4           0.0      0.0   80.9  19.9  51.099999       2.9  \n",
       "...         ...      ...    ...   ...        ...       ...  \n",
       "33128      28.4     28.2   84.9  24.5   0.000000       0.0  \n",
       "33129      27.8     27.7   85.5  24.7   0.000000       0.0  \n",
       "33130      27.6     27.5   85.7  24.6   0.000000       0.0  \n",
       "33131      27.5     27.2   85.3  24.7   0.000000       0.0  \n",
       "33132       NaN      NaN    NaN   NaN        NaN       NaN  \n",
       "\n",
       "[33133 rows x 12 columns]"
      ],
      "text/html": "<div>\n<style scoped>\n    .dataframe tbody tr th:only-of-type {\n        vertical-align: middle;\n    }\n\n    .dataframe tbody tr th {\n        vertical-align: top;\n    }\n\n    .dataframe thead th {\n        text-align: right;\n    }\n</style>\n<table border=\"1\" class=\"dataframe\">\n  <thead>\n    <tr style=\"text-align: right;\">\n      <th></th>\n      <th>AssimLight</th>\n      <th>BlackScr</th>\n      <th>CO2air</th>\n      <th>EnScr</th>\n      <th>GHtime</th>\n      <th>HumDef</th>\n      <th>PipeGrow</th>\n      <th>PipeLow</th>\n      <th>RHair</th>\n      <th>Tair</th>\n      <th>VentLee</th>\n      <th>Ventwind</th>\n    </tr>\n  </thead>\n  <tbody>\n    <tr>\n      <th>0</th>\n      <td>NaN</td>\n      <td>NaN</td>\n      <td>NaN</td>\n      <td>NaN</td>\n      <td>43326.000000</td>\n      <td>NaN</td>\n      <td>NaN</td>\n      <td>NaN</td>\n      <td>NaN</td>\n      <td>NaN</td>\n      <td>NaN</td>\n      <td>NaN</td>\n    </tr>\n    <tr>\n      <th>1</th>\n      <td>NaN</td>\n      <td>NaN</td>\n      <td>NaN</td>\n      <td>NaN</td>\n      <td>43326.003472</td>\n      <td>NaN</td>\n      <td>NaN</td>\n      <td>NaN</td>\n      <td>NaN</td>\n      <td>NaN</td>\n      <td>NaN</td>\n      <td>NaN</td>\n    </tr>\n    <tr>\n      <th>2</th>\n      <td>0.0</td>\n      <td>0.0</td>\n      <td>427.000000</td>\n      <td>0.0</td>\n      <td>43326.006944</td>\n      <td>3.34</td>\n      <td>0.0</td>\n      <td>0.0</td>\n      <td>80.4</td>\n      <td>19.9</td>\n      <td>52.900000</td>\n      <td>2.9</td>\n    </tr>\n    <tr>\n      <th>3</th>\n      <td>0.0</td>\n      <td>0.0</td>\n      <td>443.000000</td>\n      <td>0.0</td>\n      <td>43326.010417</td>\n      <td>3.36</td>\n      <td>0.0</td>\n      <td>0.0</td>\n      <td>80.4</td>\n      <td>19.9</td>\n      <td>52.900000</td>\n      <td>2.9</td>\n    </tr>\n    <tr>\n      <th>4</th>\n      <td>0.0</td>\n      <td>0.0</td>\n      <td>443.999999</td>\n      <td>0.0</td>\n      <td>43326.013889</td>\n      <td>3.29</td>\n      <td>0.0</td>\n      <td>0.0</td>\n      <td>80.9</td>\n      <td>19.9</td>\n      <td>51.099999</td>\n      <td>2.9</td>\n    </tr>\n    <tr>\n      <th>...</th>\n      <td>...</td>\n      <td>...</td>\n      <td>...</td>\n      <td>...</td>\n      <td>...</td>\n      <td>...</td>\n      <td>...</td>\n      <td>...</td>\n      <td>...</td>\n      <td>...</td>\n      <td>...</td>\n      <td>...</td>\n    </tr>\n    <tr>\n      <th>33128</th>\n      <td>100.0</td>\n      <td>100.0</td>\n      <td>900.000004</td>\n      <td>0.0</td>\n      <td>43441.027778</td>\n      <td>3.41</td>\n      <td>28.4</td>\n      <td>28.2</td>\n      <td>84.9</td>\n      <td>24.5</td>\n      <td>0.000000</td>\n      <td>0.0</td>\n    </tr>\n    <tr>\n      <th>33129</th>\n      <td>100.0</td>\n      <td>100.0</td>\n      <td>965.000000</td>\n      <td>0.0</td>\n      <td>43441.031250</td>\n      <td>3.26</td>\n      <td>27.8</td>\n      <td>27.7</td>\n      <td>85.5</td>\n      <td>24.7</td>\n      <td>0.000000</td>\n      <td>0.0</td>\n    </tr>\n    <tr>\n      <th>33130</th>\n      <td>100.0</td>\n      <td>100.0</td>\n      <td>1169.999989</td>\n      <td>0.0</td>\n      <td>43441.034722</td>\n      <td>3.25</td>\n      <td>27.6</td>\n      <td>27.5</td>\n      <td>85.7</td>\n      <td>24.6</td>\n      <td>0.000000</td>\n      <td>0.0</td>\n    </tr>\n    <tr>\n      <th>33131</th>\n      <td>100.0</td>\n      <td>100.0</td>\n      <td>1001.000023</td>\n      <td>0.0</td>\n      <td>43441.038194</td>\n      <td>3.32</td>\n      <td>27.5</td>\n      <td>27.2</td>\n      <td>85.3</td>\n      <td>24.7</td>\n      <td>0.000000</td>\n      <td>0.0</td>\n    </tr>\n    <tr>\n      <th>33132</th>\n      <td>NaN</td>\n      <td>NaN</td>\n      <td>NaN</td>\n      <td>NaN</td>\n      <td>43441.041667</td>\n      <td>NaN</td>\n      <td>NaN</td>\n      <td>NaN</td>\n      <td>NaN</td>\n      <td>NaN</td>\n      <td>NaN</td>\n      <td>NaN</td>\n    </tr>\n  </tbody>\n</table>\n<p>33133 rows × 12 columns</p>\n</div>"
     },
     "metadata": {},
     "execution_count": 117
    }
   ],
   "source": [
    "DATA1=pd.read_csv(\"https://raw.githubusercontent.com/CEAOD/Data/master/GH_Cucumber/AutonomousGreenhouseChallengeFirstEdition(2018)/Sonoma/Greenhouse_climate.csv\")\n",
    "DATA2=pd.read_csv(\"https://raw.githubusercontent.com/CEAOD/Data/master/GH_Cucumber/AutonomousGreenhouseChallengeFirstEdition(2018)/meteo.csv\")\n",
    "df1=pd.DataFrame(DATA1)\n",
    "df2=pd.DataFrame(DATA2)\n",
    "df1"
   ]
  },
  {
   "cell_type": "code",
   "execution_count": 118,
   "metadata": {},
   "outputs": [
    {
     "output_type": "execute_result",
     "data": {
      "text/plain": [
       "            time  AbsHumOut  Iglob  PARout     Pyrgeo  RadSum          Rain  \\\n",
       "0      8/14/2018        NaN    NaN     NaN        NaN     NaN           NaN   \n",
       "1      8/14/2018        NaN    NaN     NaN        NaN     NaN           NaN   \n",
       "2      8/14/2018  13.369189    0.0     0.0 -32.000000     0.0  0.000000e+00   \n",
       "3      8/14/2018  13.389380    0.0     0.0 -36.000000     0.0  0.000000e+00   \n",
       "4      8/14/2018  13.455197    0.0     1.0 -38.999999     0.0  0.000000e+00   \n",
       "...          ...        ...    ...     ...        ...     ...           ...   \n",
       "33128  12/7/2018  10.093596    0.0     0.0  -3.000000     0.0  1.000000e+00   \n",
       "33129  12/7/2018  10.093596    0.0     0.0  -2.000000     0.0  1.000000e+00   \n",
       "33130  12/7/2018  10.019657    0.0     0.0  -3.000000     0.0  9.999999e-01   \n",
       "33131  12/7/2018  10.083210    0.0     0.0  -2.000000     0.0  1.340000e-07   \n",
       "33132  12/7/2018        NaN    NaN     NaN        NaN     NaN           NaN   \n",
       "\n",
       "       Rhout  Tout  Winddir  Windsp  \n",
       "0        NaN   NaN      NaN     NaN  \n",
       "1        NaN   NaN      NaN     NaN  \n",
       "2       87.8  17.7     32.0     3.2  \n",
       "3       87.4  17.8     32.0     3.2  \n",
       "4       87.3  17.9     32.0     3.2  \n",
       "...      ...   ...      ...     ...  \n",
       "33128   96.7  11.6     32.0     9.8  \n",
       "33129   96.7  11.6     32.0    10.1  \n",
       "33130   96.6  11.5     32.0    10.1  \n",
       "33131   96.6  11.6     32.0    10.1  \n",
       "33132    NaN   NaN      NaN     NaN  \n",
       "\n",
       "[33133 rows x 11 columns]"
      ],
      "text/html": "<div>\n<style scoped>\n    .dataframe tbody tr th:only-of-type {\n        vertical-align: middle;\n    }\n\n    .dataframe tbody tr th {\n        vertical-align: top;\n    }\n\n    .dataframe thead th {\n        text-align: right;\n    }\n</style>\n<table border=\"1\" class=\"dataframe\">\n  <thead>\n    <tr style=\"text-align: right;\">\n      <th></th>\n      <th>time</th>\n      <th>AbsHumOut</th>\n      <th>Iglob</th>\n      <th>PARout</th>\n      <th>Pyrgeo</th>\n      <th>RadSum</th>\n      <th>Rain</th>\n      <th>Rhout</th>\n      <th>Tout</th>\n      <th>Winddir</th>\n      <th>Windsp</th>\n    </tr>\n  </thead>\n  <tbody>\n    <tr>\n      <th>0</th>\n      <td>8/14/2018</td>\n      <td>NaN</td>\n      <td>NaN</td>\n      <td>NaN</td>\n      <td>NaN</td>\n      <td>NaN</td>\n      <td>NaN</td>\n      <td>NaN</td>\n      <td>NaN</td>\n      <td>NaN</td>\n      <td>NaN</td>\n    </tr>\n    <tr>\n      <th>1</th>\n      <td>8/14/2018</td>\n      <td>NaN</td>\n      <td>NaN</td>\n      <td>NaN</td>\n      <td>NaN</td>\n      <td>NaN</td>\n      <td>NaN</td>\n      <td>NaN</td>\n      <td>NaN</td>\n      <td>NaN</td>\n      <td>NaN</td>\n    </tr>\n    <tr>\n      <th>2</th>\n      <td>8/14/2018</td>\n      <td>13.369189</td>\n      <td>0.0</td>\n      <td>0.0</td>\n      <td>-32.000000</td>\n      <td>0.0</td>\n      <td>0.000000e+00</td>\n      <td>87.8</td>\n      <td>17.7</td>\n      <td>32.0</td>\n      <td>3.2</td>\n    </tr>\n    <tr>\n      <th>3</th>\n      <td>8/14/2018</td>\n      <td>13.389380</td>\n      <td>0.0</td>\n      <td>0.0</td>\n      <td>-36.000000</td>\n      <td>0.0</td>\n      <td>0.000000e+00</td>\n      <td>87.4</td>\n      <td>17.8</td>\n      <td>32.0</td>\n      <td>3.2</td>\n    </tr>\n    <tr>\n      <th>4</th>\n      <td>8/14/2018</td>\n      <td>13.455197</td>\n      <td>0.0</td>\n      <td>1.0</td>\n      <td>-38.999999</td>\n      <td>0.0</td>\n      <td>0.000000e+00</td>\n      <td>87.3</td>\n      <td>17.9</td>\n      <td>32.0</td>\n      <td>3.2</td>\n    </tr>\n    <tr>\n      <th>...</th>\n      <td>...</td>\n      <td>...</td>\n      <td>...</td>\n      <td>...</td>\n      <td>...</td>\n      <td>...</td>\n      <td>...</td>\n      <td>...</td>\n      <td>...</td>\n      <td>...</td>\n      <td>...</td>\n    </tr>\n    <tr>\n      <th>33128</th>\n      <td>12/7/2018</td>\n      <td>10.093596</td>\n      <td>0.0</td>\n      <td>0.0</td>\n      <td>-3.000000</td>\n      <td>0.0</td>\n      <td>1.000000e+00</td>\n      <td>96.7</td>\n      <td>11.6</td>\n      <td>32.0</td>\n      <td>9.8</td>\n    </tr>\n    <tr>\n      <th>33129</th>\n      <td>12/7/2018</td>\n      <td>10.093596</td>\n      <td>0.0</td>\n      <td>0.0</td>\n      <td>-2.000000</td>\n      <td>0.0</td>\n      <td>1.000000e+00</td>\n      <td>96.7</td>\n      <td>11.6</td>\n      <td>32.0</td>\n      <td>10.1</td>\n    </tr>\n    <tr>\n      <th>33130</th>\n      <td>12/7/2018</td>\n      <td>10.019657</td>\n      <td>0.0</td>\n      <td>0.0</td>\n      <td>-3.000000</td>\n      <td>0.0</td>\n      <td>9.999999e-01</td>\n      <td>96.6</td>\n      <td>11.5</td>\n      <td>32.0</td>\n      <td>10.1</td>\n    </tr>\n    <tr>\n      <th>33131</th>\n      <td>12/7/2018</td>\n      <td>10.083210</td>\n      <td>0.0</td>\n      <td>0.0</td>\n      <td>-2.000000</td>\n      <td>0.0</td>\n      <td>1.340000e-07</td>\n      <td>96.6</td>\n      <td>11.6</td>\n      <td>32.0</td>\n      <td>10.1</td>\n    </tr>\n    <tr>\n      <th>33132</th>\n      <td>12/7/2018</td>\n      <td>NaN</td>\n      <td>NaN</td>\n      <td>NaN</td>\n      <td>NaN</td>\n      <td>NaN</td>\n      <td>NaN</td>\n      <td>NaN</td>\n      <td>NaN</td>\n      <td>NaN</td>\n      <td>NaN</td>\n    </tr>\n  </tbody>\n</table>\n<p>33133 rows × 11 columns</p>\n</div>"
     },
     "metadata": {},
     "execution_count": 118
    }
   ],
   "source": [
    "df2"
   ]
  },
  {
   "cell_type": "code",
   "execution_count": 75,
   "metadata": {},
   "outputs": [
    {
     "output_type": "execute_result",
     "data": {
      "text/plain": [
       "             GHtime       CO2air\n",
       "0      43326.000000          NaN\n",
       "1      43326.003472          NaN\n",
       "2      43326.006944   427.000000\n",
       "3      43326.010417   443.000000\n",
       "4      43326.013889   443.999999\n",
       "...             ...          ...\n",
       "33128  43441.027778   900.000004\n",
       "33129  43441.031250   965.000000\n",
       "33130  43441.034722  1169.999989\n",
       "33131  43441.038194  1001.000023\n",
       "33132  43441.041667          NaN\n",
       "\n",
       "[33133 rows x 2 columns]"
      ],
      "text/html": "<div>\n<style scoped>\n    .dataframe tbody tr th:only-of-type {\n        vertical-align: middle;\n    }\n\n    .dataframe tbody tr th {\n        vertical-align: top;\n    }\n\n    .dataframe thead th {\n        text-align: right;\n    }\n</style>\n<table border=\"1\" class=\"dataframe\">\n  <thead>\n    <tr style=\"text-align: right;\">\n      <th></th>\n      <th>GHtime</th>\n      <th>CO2air</th>\n    </tr>\n  </thead>\n  <tbody>\n    <tr>\n      <th>0</th>\n      <td>43326.000000</td>\n      <td>NaN</td>\n    </tr>\n    <tr>\n      <th>1</th>\n      <td>43326.003472</td>\n      <td>NaN</td>\n    </tr>\n    <tr>\n      <th>2</th>\n      <td>43326.006944</td>\n      <td>427.000000</td>\n    </tr>\n    <tr>\n      <th>3</th>\n      <td>43326.010417</td>\n      <td>443.000000</td>\n    </tr>\n    <tr>\n      <th>4</th>\n      <td>43326.013889</td>\n      <td>443.999999</td>\n    </tr>\n    <tr>\n      <th>...</th>\n      <td>...</td>\n      <td>...</td>\n    </tr>\n    <tr>\n      <th>33128</th>\n      <td>43441.027778</td>\n      <td>900.000004</td>\n    </tr>\n    <tr>\n      <th>33129</th>\n      <td>43441.031250</td>\n      <td>965.000000</td>\n    </tr>\n    <tr>\n      <th>33130</th>\n      <td>43441.034722</td>\n      <td>1169.999989</td>\n    </tr>\n    <tr>\n      <th>33131</th>\n      <td>43441.038194</td>\n      <td>1001.000023</td>\n    </tr>\n    <tr>\n      <th>33132</th>\n      <td>43441.041667</td>\n      <td>NaN</td>\n    </tr>\n  </tbody>\n</table>\n<p>33133 rows × 2 columns</p>\n</div>"
     },
     "metadata": {},
     "execution_count": 75
    }
   ],
   "source": []
  },
  {
   "cell_type": "code",
   "execution_count": 119,
   "metadata": {},
   "outputs": [
    {
     "output_type": "execute_result",
     "data": {
      "text/plain": [
       "float"
      ]
     },
     "metadata": {},
     "execution_count": 119
    }
   ],
   "source": [
    "df=pd.DataFrame()\n",
    "df[['GHtime','CO2air','Tair','VentLee','Ventwind']]=df1[['GHtime','CO2air','Tair','VentLee','Ventwind']]\n",
    "df[['Tout','Windsp']]=df2[['Tout','Windsp']]\n",
    "df['GHtime']=pd.TimedeltaIndex(df['GHtime'],unit='d')+dt.datetime(1899,12,30)\n",
    "#df\n",
    "#df=df.dropna()\n",
    "(df['GHtime'][1]-df['GHtime'][0]).total_seconds()\n",
    "#for i in range(3,len(df['GHtime'])):\n",
    "#    if ((df['GHtime'][i]-df['GHtime'][i-1]).total_seconds()>500)==True:\n",
    "#        print(i)\n",
    "df.dropna(inplace=True)\n",
    "df.reset_index(drop=True,inplace=True)\n",
    "type((df['GHtime'][2]-df['GHtime'][1]).total_seconds())"
   ]
  },
  {
   "source": [
    "Tham số đã biết"
   ],
   "cell_type": "markdown",
   "metadata": {}
  },
  {
   "cell_type": "code",
   "execution_count": 120,
   "metadata": {},
   "outputs": [],
   "source": [
    "cap_CO2_Air=3.8 #m\n",
    "cap_CO2_Top=0.4 #m \n",
    "A_Flr=14000 #m^2\n",
    "U_Blow=1\n",
    "Eta_HeatCO2=0.057 #mg{CO2}*J^(-1)\n",
    "P_Blow=500 #W\n",
    "U_ExtCO2=1\n",
    "Phi_ExtCO2=72000 #mg*s^(-1)\n",
    "CO2_Out=668 #mg*m^(-3)\n",
    "U_Pad=1\n",
    "Phi_Pad=16.7 #? #m^3*s^(-1)\n",
    "U_ThScr=1\n",
    "K_ThScr=0.05*(10**(-3)) #m*K^(-2/3)*s^(-1)\n",
    "g=9.81 #m*s^(-1)\n",
    "Delta_T_AirTop= 5 #? #K\n",
    "RO_Mean= 0.2*(10**3) #kg*m^(-3) #lấy đại ở thermal\n",
    "Delta_RO=0.5*(10**3) #? #kg*m^(-3)\n",
    "U_Roof=1\n",
    "U_Side=1\n",
    "A_Roof=1400 #? #m^2\n",
    "A_Side=0.09#? #m^2\n",
    "C_d=0.2 #?  #Prediction_of_the_Effect_of_Insect-proof_Screens_o.pdf\n",
    "C_w=0.3 #?\n",
    "h_SideRoof=1.9 #m(Chua chac chan)\n",
    "h_Roof=0.68 #m\n",
    "Delta_T_AirOut= 8 #? #K\n",
    "T_mean=293#? #K\n",
    "Zeta_InsScr=1 \n",
    "C_leakage=1*(10**(-4))\n",
    "Eta_SideThr=0.9 #? \n",
    "Eta_RoofThr=0.9 \n",
    "U_VentForced=1\n",
    "Phi_VentForced= 16.7 #? #m^3*s^(-1)\n",
    "C_Max_Buf=20*(10**3)  #mg{CO2}*m^(-2)\n",
    "C_Buf=10*(10**3) #? #mg{CO2}*m^(-2)\n",
    "M_CH2O=30\n",
    "#Quang hợp\n",
    "K_T0=0.84\n",
    "T0=298.15\n",
    "Ha=37000\n",
    "R=8.314472\n",
    "Hd=220000\n",
    "S=710\n",
    "Res=250#200\n",
    "L_0_5=500 #406.5\n",
    "L0=2000 #545.45\n",
    "K=1\n",
    "m=0.1\n",
    "CO2_0_5=10000 #20000\n",
    "P_MLT=50 #35\n",
    "LAI=2"
   ]
  },
  {
   "cell_type": "code",
   "execution_count": 121,
   "metadata": {},
   "outputs": [
    {
     "output_type": "execute_result",
     "data": {
      "text/plain": [
       "                             GHtime       CO2air  Tair    VentLee  Ventwind  \\\n",
       "0     2018-08-14 00:10:00.000048000   427.000000  19.9  52.900000       2.9   \n",
       "1     2018-08-14 00:15:00.000028799   443.000000  19.9  52.900000       2.9   \n",
       "2     2018-08-14 00:20:00.000009600   443.999999  19.9  51.099999       2.9   \n",
       "3     2018-08-14 00:24:59.999990399   435.000001  19.7  42.800001       2.9   \n",
       "4     2018-08-14 00:29:59.999971200   442.000000  19.9  42.800000       2.9   \n",
       "...                             ...          ...   ...        ...       ...   \n",
       "32985 2018-12-07 00:34:59.999952000   952.999999  24.5   0.000000       0.0   \n",
       "32986 2018-12-07 00:40:00.000019200   900.000004  24.5   0.000000       0.0   \n",
       "32987 2018-12-07 00:45:00.000000000   965.000000  24.7   0.000000       0.0   \n",
       "32988 2018-12-07 00:49:59.999980799  1169.999989  24.6   0.000000       0.0   \n",
       "32989 2018-12-07 00:55:00.000048000  1001.000023  24.7   0.000000       0.0   \n",
       "\n",
       "       Tout  Windsp  \n",
       "0      17.7     3.2  \n",
       "1      17.8     3.2  \n",
       "2      17.9     3.2  \n",
       "3      17.8     3.2  \n",
       "4      17.8     3.2  \n",
       "...     ...     ...  \n",
       "32985  11.6     9.8  \n",
       "32986  11.6     9.8  \n",
       "32987  11.6    10.1  \n",
       "32988  11.5    10.1  \n",
       "32989  11.6    10.1  \n",
       "\n",
       "[32990 rows x 7 columns]"
      ],
      "text/html": "<div>\n<style scoped>\n    .dataframe tbody tr th:only-of-type {\n        vertical-align: middle;\n    }\n\n    .dataframe tbody tr th {\n        vertical-align: top;\n    }\n\n    .dataframe thead th {\n        text-align: right;\n    }\n</style>\n<table border=\"1\" class=\"dataframe\">\n  <thead>\n    <tr style=\"text-align: right;\">\n      <th></th>\n      <th>GHtime</th>\n      <th>CO2air</th>\n      <th>Tair</th>\n      <th>VentLee</th>\n      <th>Ventwind</th>\n      <th>Tout</th>\n      <th>Windsp</th>\n    </tr>\n  </thead>\n  <tbody>\n    <tr>\n      <th>0</th>\n      <td>2018-08-14 00:10:00.000048000</td>\n      <td>427.000000</td>\n      <td>19.9</td>\n      <td>52.900000</td>\n      <td>2.9</td>\n      <td>17.7</td>\n      <td>3.2</td>\n    </tr>\n    <tr>\n      <th>1</th>\n      <td>2018-08-14 00:15:00.000028799</td>\n      <td>443.000000</td>\n      <td>19.9</td>\n      <td>52.900000</td>\n      <td>2.9</td>\n      <td>17.8</td>\n      <td>3.2</td>\n    </tr>\n    <tr>\n      <th>2</th>\n      <td>2018-08-14 00:20:00.000009600</td>\n      <td>443.999999</td>\n      <td>19.9</td>\n      <td>51.099999</td>\n      <td>2.9</td>\n      <td>17.9</td>\n      <td>3.2</td>\n    </tr>\n    <tr>\n      <th>3</th>\n      <td>2018-08-14 00:24:59.999990399</td>\n      <td>435.000001</td>\n      <td>19.7</td>\n      <td>42.800001</td>\n      <td>2.9</td>\n      <td>17.8</td>\n      <td>3.2</td>\n    </tr>\n    <tr>\n      <th>4</th>\n      <td>2018-08-14 00:29:59.999971200</td>\n      <td>442.000000</td>\n      <td>19.9</td>\n      <td>42.800000</td>\n      <td>2.9</td>\n      <td>17.8</td>\n      <td>3.2</td>\n    </tr>\n    <tr>\n      <th>...</th>\n      <td>...</td>\n      <td>...</td>\n      <td>...</td>\n      <td>...</td>\n      <td>...</td>\n      <td>...</td>\n      <td>...</td>\n    </tr>\n    <tr>\n      <th>32985</th>\n      <td>2018-12-07 00:34:59.999952000</td>\n      <td>952.999999</td>\n      <td>24.5</td>\n      <td>0.000000</td>\n      <td>0.0</td>\n      <td>11.6</td>\n      <td>9.8</td>\n    </tr>\n    <tr>\n      <th>32986</th>\n      <td>2018-12-07 00:40:00.000019200</td>\n      <td>900.000004</td>\n      <td>24.5</td>\n      <td>0.000000</td>\n      <td>0.0</td>\n      <td>11.6</td>\n      <td>9.8</td>\n    </tr>\n    <tr>\n      <th>32987</th>\n      <td>2018-12-07 00:45:00.000000000</td>\n      <td>965.000000</td>\n      <td>24.7</td>\n      <td>0.000000</td>\n      <td>0.0</td>\n      <td>11.6</td>\n      <td>10.1</td>\n    </tr>\n    <tr>\n      <th>32988</th>\n      <td>2018-12-07 00:49:59.999980799</td>\n      <td>1169.999989</td>\n      <td>24.6</td>\n      <td>0.000000</td>\n      <td>0.0</td>\n      <td>11.5</td>\n      <td>10.1</td>\n    </tr>\n    <tr>\n      <th>32989</th>\n      <td>2018-12-07 00:55:00.000048000</td>\n      <td>1001.000023</td>\n      <td>24.7</td>\n      <td>0.000000</td>\n      <td>0.0</td>\n      <td>11.6</td>\n      <td>10.1</td>\n    </tr>\n  </tbody>\n</table>\n<p>32990 rows × 7 columns</p>\n</div>"
     },
     "metadata": {},
     "execution_count": 121
    }
   ],
   "source": [
    "df"
   ]
  },
  {
   "cell_type": "code",
   "execution_count": 122,
   "metadata": {},
   "outputs": [],
   "source": [
    "MC_BlowAir=0\n",
    "MC_ExtAir=0\n",
    "MC_PadAir=0\n",
    "MC_AirCan=0\n",
    "MC_AirTop=0\n",
    "MC_AirOut=0\n",
    "MC_TopOut=0\n",
    "CO2_Air=0\n",
    "CO2_Top=0\n",
    "T=0\n",
    "Eta_Side=0\n",
    "Eta_Roof=0\n",
    "v_Wind=0"
   ]
  },
  {
   "cell_type": "code",
   "execution_count": 123,
   "metadata": {},
   "outputs": [
    {
     "output_type": "stream",
     "name": "stdout",
     "text": [
      "3.2\n0.0020357142857142857\n[(1.2864923316028705-334.15061600511876j), -4.513344673570341]\n"
     ]
    }
   ],
   "source": [
    "\n",
    "for i in range(0,1):\n",
    "    #KHAI Báo biến thay đổi dựa vào DATA\n",
    "    CO2_Air=float(df['CO2air'][i]*0.0409*44.01)\n",
    "    CO2_Top=CO2_Air\n",
    "    T=float(df['Tout'][i]+273)\n",
    "    Eta_Side=float(df['Ventwind'][i]/100)\n",
    "    Eta_Roof=float(df['VentLee'][i]/100)\n",
    "    v_Wind=float(df['Windsp'][i])\n",
    "    print(dx(cap_CO2_Air,cap_CO2_Top,MC_BlowAir,MC_ExtAir,MC_PadAir,MC_AirCan,MC_AirTop,MC_AirOut,MC_TopOut))\n"
   ]
  },
  {
   "source": [
    "Chú ý biến trùng tên"
   ],
   "cell_type": "markdown",
   "metadata": {}
  }
 ]
}
