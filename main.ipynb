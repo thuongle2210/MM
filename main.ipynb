{
 "metadata": {
  "language_info": {
   "codemirror_mode": {
    "name": "ipython",
    "version": 3
   },
   "file_extension": ".py",
   "mimetype": "text/x-python",
   "name": "python",
   "nbconvert_exporter": "python",
   "pygments_lexer": "ipython3",
   "version": "3.8.5-final"
  },
  "orig_nbformat": 2,
  "kernelspec": {
   "name": "python3",
   "display_name": "Python 3",
   "language": "python"
  }
 },
 "nbformat": 4,
 "nbformat_minor": 2,
 "cells": [
  {
   "cell_type": "code",
   "execution_count": 235,
   "metadata": {},
   "outputs": [],
   "source": [
    "import matplotlib.pyplot as plt\n",
    "import math\n",
    "import numpy as np \n",
    "import pandas as pd \n",
    "import io \n",
    "import requests\n",
    "import datetime as dt\n"
   ]
  },
  {
   "source": [
    "Viết Phương trình"
   ],
   "cell_type": "markdown",
   "metadata": {}
  },
  {
   "cell_type": "code",
   "execution_count": 236,
   "metadata": {},
   "outputs": [],
   "source": [
    "def ConvertAirFrom_PPM_To_mgDivm3(x):\n",
    "    return x*(0.0409)*44\n",
    "def ConvertAirFrom_mgDivm3_To_UmolDivm3(x):\n",
    "    return x*(1000/44)\n",
    "def ConvertAirFrom_UmolDivm3_To_mgDivm3(x):\n",
    "    return x/(1000/44)"
   ]
  },
  {
   "cell_type": "code",
   "execution_count": 237,
   "metadata": {},
   "outputs": [],
   "source": [
    "def dx(cap_CO2_Air,cap_CO2_Top,MC_BlowAir,MC_ExtAir,MC_PadAir,MC_AirCan,MC_AirTop,MC_AirOut,MC_TopOut):\n",
    "    global CO2_Air\n",
    "    MC_BlowAir=def_MC_BlowAir(Eta_HeatCO2,U_Blow,P_Blow,A_Flr)\n",
    "    print(\"MC_BlowAir=\",MC_BlowAir)\n",
    "    print()\n",
    "\n",
    "    MC_ExtAir=def_MC_ExtAir(U_ExtCO2,Phi_ExtCO2,A_Flr)\n",
    "    print(\"MC_ExtAir=\",MC_ExtAir)\n",
    "    print()\n",
    "\n",
    "    MC_PadAir=def_MC_PadAir(U_Pad,Phi_Pad,A_Flr,CO2_Out,CO2_Air)\n",
    "    print(\"MC_PadAir=\",MC_PadAir)\n",
    "    print()\n",
    "\n",
    "    f_ThScr=def_f_ThScr(U_ThScr,K_ThScr,Delta_T_AirTop,g,RO_Mean,Delta_RO)\n",
    "    print(\"f_ThScr=\",f_ThScr)\n",
    "    MC_AirTop=def_MC_AirTop(f_ThScr,CO2_Air,CO2_Top)\n",
    "    print(\"MC_AirTop=\",MC_AirTop)\n",
    "    print()\n",
    "\n",
    "    ff_VentSide=def_f_VentRoofSide(C_d,A_Flr,U_Roof,0,U_Side,A_Side,g,h_SideRoof,Delta_T_AirOut,T_mean,C_w,v_Wind) # A_Roof=0\n",
    "    print(\"ff_VentSide=\",ff_VentSide)\n",
    "    Eta_InsScr=def_Eta_InsScr(Zeta_InsScr)\n",
    "    print(\"Eta_InscScr=\",Eta_InsScr)\n",
    "    f_leakage=def_f_leakage(v_Wind,C_leakage)\n",
    "    print(\"f_leakage=\",f_leakage)\n",
    "    f_VentRoofSide=def_f_VentRoofSide(C_d,A_Flr,U_Roof,A_Roof,U_Side,A_Side,g,h_SideRoof,Delta_T_AirOut,T_mean,C_w,v_Wind)\n",
    "    print(\"f_VentRoofSide=\",f_VentRoofSide)\n",
    "    f_VentForced=def_f_VentForced(Eta_InsScr,U_VentForced,Phi_VentForced,A_Flr)\n",
    "    print(\"f_VentForced=\",f_VentForced)\n",
    "    f_VentSide=def_f_VentSide(Eta_InsScr,ff_VentSide,f_leakage,U_ThScr,f_VentRoofSide,Eta_Side,Eta_SideThr)\n",
    "    print(\"f_VentSide=\",f_VentSide)\n",
    "    MC_AirOut=def_MC_AirOut(f_VentSide,f_VentForced,CO2_Air,CO2_Out)\n",
    "    print(\"MC_AirOut=\",MC_AirOut)\n",
    "    print()\n",
    "\n",
    "    #Phần quang hợp\n",
    "    #Đổi đơn vị của CO2\n",
    "    CO2_Air=ConvertAirFrom_mgDivm3_To_UmolDivm3(float(CO2_Air))\n",
    "    ff_VentRoof=def_ff_VentRoof(C_d,U_Roof,A_Roof,A_Flr,g,h_Roof,Delta_T_AirOut,T_mean,C_w,v_Wind)\n",
    "    print(\"ff_VentRoof=\",ff_VentRoof)\n",
    "    f_VentRoof=def_f_VentRoof(Eta_InsScr,ff_VentRoof,f_leakage,U_ThScr,f_VentRoofSide,Eta_Roof,Eta_RoofThr) \n",
    "    print(\"f_VentRoof\",f_VentRoof)\n",
    "    # can be changed\n",
    "    MC_TopOut=def_MC_TopOut(f_VentRoof,CO2_Top,CO2_Out)\n",
    "    print(\"MC_TopOut\",MC_TopOut)\n",
    "    print()\n",
    "    h_C_Buf=def_h_C_Buf(C_Buf,C_Max_Buf)\n",
    "    print(\"h_C_Buf\",h_C_Buf)\n",
    "\n",
    "    L=def_L(L0,K,LAI,m)\n",
    "    fT=def_f(Hd,R,T,T0,S)\n",
    "    KT=def_KT_WithLAI(LAI,K_T0,Ha,R,T,T0)\n",
    "    print(\"L=\",L)\n",
    "    print(\"fT=\",fT)\n",
    "    print(\"KT=\",KT)\n",
    "    print(\"----\")\n",
    "    PT_Max=def_PT_Max(KT,fT)\n",
    "    print(\"PT_Max=\",PT_Max)\n",
    "    P_Max_LT=def_PMax_LT(P_MLT,PT_Max,L,L_0_5)\n",
    "    print(\"P_Max_LT=\",P_Max_LT)\n",
    "    P=def_P(CO2_Air,CO2_0_5,Res,P_Max_LT)\n",
    "    print(\"P=\",P)\n",
    "    R_HOHAP=0.01*P\n",
    "    print(\"R_HOHAP=\",R_HOHAP)\n",
    "    MC_AirCan=def_MC_AirCan(M_CH2O,h_C_Buf,P,R_HOHAP)\n",
    "    print(\"MC_AirCan\",MC_AirCan)\n",
    "\n",
    "    #Đổi lại đơn vị cho CO2\n",
    "    CO2_Air=ConvertAirFrom_UmolDivm3_To_mgDivm3(float(CO2_Air))\n",
    "\n",
    "    dx1=(MC_BlowAir+MC_ExtAir+MC_PadAir-MC_AirCan-MC_AirTop-MC_AirOut)/cap_CO2_Air\n",
    "    dx2=(MC_AirTop-MC_TopOut)/cap_CO2_Top\n",
    "    print()\n",
    "    return [dx1,dx2]"
   ]
  },
  {
   "cell_type": "code",
   "execution_count": 238,
   "metadata": {},
   "outputs": [],
   "source": [
    "def def_MC_BlowAir(Eta_HeatCO2,U_Blow,P_Blow,A_Flr):\n",
    "    return Eta_HeatCO2*U_Blow*P_Blow/A_Flr\n",
    "\n",
    "def def_MC_ExtAir(U_ExtCO2,Phi_ExtCO2,A_Flr):\n",
    "    return U_ExtCO2*Phi_ExtCO2/A_Flr\n",
    "\n",
    "def def_MC_PadAir(U_Pad,Phi_Pad,A_Flr,CO2_Out,CO2_Air):\n",
    "    return U_Pad*Phi_Pad*(CO2_Out-CO2_Air)/A_Flr\n",
    "\n",
    "def def_f_ThScr(U_ThScr,K_ThScr,Delta_T_AirTop,g,RO_Mean,Delta_RO):\n",
    "    return U_ThScr*K_ThScr*((Delta_T_AirTop)**(2/3))+(1-U_ThScr)*(((g*(1-U_ThScr)/(2*RO_Mean))*Delta_RO)**(1/2))\n",
    "\n",
    "def def_MC_AirTop(f_ThScr,CO2_Air,CO2_Top):\n",
    "    return f_ThScr*50\n",
    "    #f_ThScr*(CO2_Air-CO2_Top)\n",
    "\n",
    "def def_f_VentRoofSide(C_d,A_Flr,U_Roof,A_Roof,U_Side,A_Side,g,h_SideRoof,Delta_T_AirOut,T_mean,C_w,v_Wind):\n",
    "    component1=C_d/A_Flr\n",
    "    component2=((U_Roof**2)*(U_Side**2)*(A_Roof**2)*(A_Side**2))/((U_Roof**2)*(A_Roof**2)+(U_Side**2)*(A_Side**2))\n",
    "    component3=(2*g*h_SideRoof*Delta_T_AirOut)/T_mean\n",
    "    component4=(((U_Roof*A_Roof+U_Side*A_Side)/2)**2)*C_w*(v_Wind**2)\n",
    "    return component1*((component2*component3+component4)**(1/2))\n",
    "\n",
    "def def_Eta_InsScr(Zeta_InsScr):\n",
    "    return Zeta_InsScr*(2-Zeta_InsScr)\n",
    "\n",
    "def def_f_leakage(v_Wind,C_leakage):\n",
    "    if (v_Wind<0.25):\n",
    "        return 0.25*C_leakage\n",
    "    else:\n",
    "        return v_Wind*C_leakage\n",
    "\n",
    "def def_f_VentForced(Eta_InsScr,U_VentForced,Phi_VentForced,A_Flr):\n",
    "    return Eta_InsScr*U_VentForced*Phi_VentForced/A_Flr\n",
    "\n",
    "def def_f_VentSide(Eta_InsScr,ff_VentSide,f_leakage,U_ThScr,f_VentRoofSide,Eta_Side,Eta_SideThr):\n",
    "    if (Eta_Side>=Eta_SideThr):\n",
    "        return Eta_InsScr*ff_VentSide+0.5*f_leakage\n",
    "    else:\n",
    "        return Eta_InsScr*(U_ThScr*ff_VentSide+(1-U_ThScr)*f_VentRoofSide*Eta_Side)+0.5*f_leakage\n",
    "\n",
    "def def_MC_AirOut(f_VentSide,f_VentForced,CO2_Air,CO2_Out):\n",
    "    return (f_VentSide+f_VentForced)*(CO2_Air-CO2_Out)\n",
    "\n",
    "def def_ff_VentRoof(C_d,U_Roof,A_Roof,A_Flr,g,h_Roof,Delta_T_AirOut,T_mean,C_w,v_Wind):\n",
    "    component1=C_d*U_Roof*A_Roof/(2*A_Flr)\n",
    "    component2=(g*h_Roof*Delta_T_AirOut/(2*T_mean))+C_w*(v_Wind**2)\n",
    "    return component1*(component2**(1/2))\n",
    "\n",
    "def def_f_VentRoof(Eta_InsScr,ff_VentRoof,f_leakage,U_ThScr,f_VentRoofSide,Eta_Roof,Eta_RoofThr):\n",
    "    if (Eta_Roof>=Eta_RoofThr):\n",
    "        return Eta_InsScr*ff_VentRoof+0.5*f_leakage\n",
    "    else:\n",
    "        return Eta_InsScr*(U_ThScr*ff_VentRoof+(1-U_ThScr)*f_VentRoofSide*Eta_Roof)+0.5*f_leakage\n",
    "\n",
    "def def_MC_TopOut(f_VentRoof,CO2_Top,CO2_Out):\n",
    "    return f_VentRoof*(CO2_Top-CO2_Out)\n",
    "\n",
    "def def_h_C_Buf(C_Buf,C_Max_Buf):\n",
    "    if (C_Buf>C_Max_Buf):\n",
    "        return 0\n",
    "    else:\n",
    "        return 1\n",
    "\n",
    "def def_MC_AirCan(M_CH2O,h_C_Buf,P,R):\n",
    "    return M_CH2O*h_C_Buf*(P-R)\n",
    "\n"
   ]
  },
  {
   "source": [
    "Quang Hợp"
   ],
   "cell_type": "markdown",
   "metadata": {}
  },
  {
   "cell_type": "code",
   "execution_count": 239,
   "metadata": {},
   "outputs": [],
   "source": [
    "def def_P(CO2_Air,CO2_0_5,Res,P_Max_LT):\n",
    "    component1=CO2_Air+CO2_0_5+Res*P_Max_LT\n",
    "    component2=((CO2_Air+CO2_0_5+Res*P_Max_LT)**2-4*CO2_Air*Res*P_Max_LT)**(1/2)\n",
    "    return (component1-component2)/(4*Res)\n",
    "def def_K(K_T0,Ha,R,T,T0):\n",
    "    return K_T0*math.exp((-Ha/R)*(1/T-1/T0))\n",
    "def def_f(Hd,R,T,T0,S):\n",
    "    component1=1+math.exp((-Hd/R)*(1/T0-1/(Hd/S)))\n",
    "    component2=1+math.exp((-Hd/R)*(1/T-1/(Hd/S)))\n",
    "    return component1/component2\n",
    "def def_PT_Max(KT,fT):\n",
    "    return KT*fT\n",
    "def def_L(L0,K,LAI,m):\n",
    "    return L0*(1-(K*math.exp(-K*LAI))/(1-m))\n",
    "def def_KT_WithLAI(LAI,K_T0,Ha,R,T,T0):\n",
    "    return LAI*K_T0*math.exp((-Ha/R)*(1/T-1/T0))\n",
    "def def_PMax_LT(P_MLT,PT_Max,L,L_0_5):\n",
    "    return P_MLT*(PT_Max/PT_Max_304)*L/(L+L_0_5)\n"
   ]
  },
  {
   "source": [
    "Định nghĩa tham số, hằng số có sẵn:"
   ],
   "cell_type": "markdown",
   "metadata": {}
  },
  {
   "cell_type": "code",
   "execution_count": null,
   "metadata": {},
   "outputs": [],
   "source": []
  },
  {
   "source": [],
   "cell_type": "markdown",
   "metadata": {}
  },
  {
   "source": [
    "Lấy dữ liệu cho các biến cần lấy dữ liệu"
   ],
   "cell_type": "markdown",
   "metadata": {}
  },
  {
   "cell_type": "code",
   "execution_count": 240,
   "metadata": {},
   "outputs": [],
   "source": [
    "DATA1=pd.read_csv(\"https://raw.githubusercontent.com/CEAOD/Data/master/GH_Cucumber/AutonomousGreenhouseChallengeFirstEdition(2018)/Sonoma/Greenhouse_climate.csv\")\n",
    "DATA2=pd.read_csv(\"https://raw.githubusercontent.com/CEAOD/Data/master/GH_Cucumber/AutonomousGreenhouseChallengeFirstEdition(2018)/meteo.csv\")\n",
    "df1=pd.DataFrame(DATA1)\n",
    "df2=pd.DataFrame(DATA2)\n",
    "#df1"
   ]
  },
  {
   "cell_type": "code",
   "execution_count": 241,
   "metadata": {},
   "outputs": [],
   "source": [
    "#df2"
   ]
  },
  {
   "cell_type": "code",
   "execution_count": 75,
   "metadata": {},
   "outputs": [
    {
     "output_type": "execute_result",
     "data": {
      "text/plain": [
       "             GHtime       CO2air\n",
       "0      43326.000000          NaN\n",
       "1      43326.003472          NaN\n",
       "2      43326.006944   427.000000\n",
       "3      43326.010417   443.000000\n",
       "4      43326.013889   443.999999\n",
       "...             ...          ...\n",
       "33128  43441.027778   900.000004\n",
       "33129  43441.031250   965.000000\n",
       "33130  43441.034722  1169.999989\n",
       "33131  43441.038194  1001.000023\n",
       "33132  43441.041667          NaN\n",
       "\n",
       "[33133 rows x 2 columns]"
      ],
      "text/html": "<div>\n<style scoped>\n    .dataframe tbody tr th:only-of-type {\n        vertical-align: middle;\n    }\n\n    .dataframe tbody tr th {\n        vertical-align: top;\n    }\n\n    .dataframe thead th {\n        text-align: right;\n    }\n</style>\n<table border=\"1\" class=\"dataframe\">\n  <thead>\n    <tr style=\"text-align: right;\">\n      <th></th>\n      <th>GHtime</th>\n      <th>CO2air</th>\n    </tr>\n  </thead>\n  <tbody>\n    <tr>\n      <th>0</th>\n      <td>43326.000000</td>\n      <td>NaN</td>\n    </tr>\n    <tr>\n      <th>1</th>\n      <td>43326.003472</td>\n      <td>NaN</td>\n    </tr>\n    <tr>\n      <th>2</th>\n      <td>43326.006944</td>\n      <td>427.000000</td>\n    </tr>\n    <tr>\n      <th>3</th>\n      <td>43326.010417</td>\n      <td>443.000000</td>\n    </tr>\n    <tr>\n      <th>4</th>\n      <td>43326.013889</td>\n      <td>443.999999</td>\n    </tr>\n    <tr>\n      <th>...</th>\n      <td>...</td>\n      <td>...</td>\n    </tr>\n    <tr>\n      <th>33128</th>\n      <td>43441.027778</td>\n      <td>900.000004</td>\n    </tr>\n    <tr>\n      <th>33129</th>\n      <td>43441.031250</td>\n      <td>965.000000</td>\n    </tr>\n    <tr>\n      <th>33130</th>\n      <td>43441.034722</td>\n      <td>1169.999989</td>\n    </tr>\n    <tr>\n      <th>33131</th>\n      <td>43441.038194</td>\n      <td>1001.000023</td>\n    </tr>\n    <tr>\n      <th>33132</th>\n      <td>43441.041667</td>\n      <td>NaN</td>\n    </tr>\n  </tbody>\n</table>\n<p>33133 rows × 2 columns</p>\n</div>"
     },
     "metadata": {},
     "execution_count": 75
    }
   ],
   "source": []
  },
  {
   "cell_type": "code",
   "execution_count": 242,
   "metadata": {},
   "outputs": [
    {
     "output_type": "execute_result",
     "data": {
      "text/plain": [
       "float"
      ]
     },
     "metadata": {},
     "execution_count": 242
    }
   ],
   "source": [
    "df=pd.DataFrame()\n",
    "df[['GHtime','CO2air','Tair','VentLee','Ventwind']]=df1[['GHtime','CO2air','Tair','VentLee','Ventwind']]\n",
    "df[['Tout','Windsp']]=df2[['Tout','Windsp']]\n",
    "df['GHtime']=pd.TimedeltaIndex(df['GHtime'],unit='d')+dt.datetime(1899,12,30)\n",
    "#df\n",
    "#df=df.dropna()\n",
    "(df['GHtime'][1]-df['GHtime'][0]).total_seconds()\n",
    "#for i in range(3,len(df['GHtime'])):\n",
    "#    if ((df['GHtime'][i]-df['GHtime'][i-1]).total_seconds()>500)==True:\n",
    "#        print(i)\n",
    "df.dropna(inplace=True)\n",
    "df.reset_index(drop=True,inplace=True)\n",
    "type((df['GHtime'][2]-df['GHtime'][1]).total_seconds())"
   ]
  },
  {
   "source": [
    "Tham số đã biết"
   ],
   "cell_type": "markdown",
   "metadata": {}
  },
  {
   "cell_type": "code",
   "execution_count": 243,
   "metadata": {},
   "outputs": [],
   "source": [
    "cap_CO2_Air=3.8 #m\n",
    "cap_CO2_Top=0.4 #m \n",
    "A_Flr=14000 #m^2\n",
    "U_Blow=1\n",
    "Eta_HeatCO2=0.057 #mg{CO2}*J^(-1)\n",
    "P_Blow=500 #W\n",
    "U_ExtCO2=1\n",
    "Phi_ExtCO2=72000 #mg*s^(-1)\n",
    "CO2_Out=668 #mg*m^(-3)\n",
    "U_Pad=1\n",
    "Phi_Pad=630 #? #m^3*s^(-1)\n",
    "U_ThScr=1\n",
    "K_ThScr=0.05*(10**(-3)) #m*K^(-2/3)*s^(-1)\n",
    "g=9.81 #m*s^(-1)\n",
    "Delta_T_AirTop= 5 #? #K\n",
    "RO_Mean= 1.2 #kg*m^(-3) #lấy đại ở thermal\n",
    "Delta_RO=0.2 #? #kg*m^(-3)\n",
    "U_Roof=1\n",
    "U_Side=1\n",
    "A_Roof=0.1 #? #m^2\n",
    "A_Side=0.09#? #m^2\n",
    "C_d=0.75 #0.2 #?  #Prediction_of_the_Effect_of_Insect-proof_Screens_o.pdf\n",
    "C_w=0.09 #0.3 #?\n",
    "h_SideRoof=1.9 #m(Chua chac chan)\n",
    "h_Roof=0.68 #m\n",
    "Delta_T_AirOut= 8 #? #K\n",
    "T_mean=293#? #K\n",
    "Zeta_InsScr=1 \n",
    "C_leakage=1*(10**(-4))\n",
    "Eta_SideThr=0.9 #? \n",
    "Eta_RoofThr=0.9 \n",
    "U_VentForced=1\n",
    "Phi_VentForced= 0 #16.7 #? #m^3*s^(-1)\n",
    "C_Max_Buf=20*(10**3)  #mg{CO2}*m^(-2)\n",
    "C_Buf=10*(10**3) #? #mg{CO2}*m^(-2)\n",
    "M_CH2O=0.03\n",
    "#Quang hợp\n",
    "K_T0=8.4\n",
    "T0=298.15\n",
    "Ha=37000\n",
    "R=8.314472\n",
    "Hd=220000\n",
    "S=710\n",
    "Res=250#200\n",
    "L_0_5=500 #406.5\n",
    "L0=2000 #545.45\n",
    "K=1\n",
    "m=0.1\n",
    "CO2_0_5=10000 #20000\n",
    "P_MLT=50 #35\n",
    "LAI=3"
   ]
  },
  {
   "source": [
    "Một số tham số phụ trợ\n"
   ],
   "cell_type": "markdown",
   "metadata": {}
  },
  {
   "cell_type": "code",
   "execution_count": 244,
   "metadata": {},
   "outputs": [],
   "source": [
    "PT_Max_304=29.138980178262003 # 304độ K"
   ]
  },
  {
   "cell_type": "code",
   "execution_count": 245,
   "metadata": {},
   "outputs": [
    {
     "output_type": "execute_result",
     "data": {
      "text/plain": [
       "447.99999929592"
      ]
     },
     "metadata": {},
     "execution_count": 245
    }
   ],
   "source": [
    "df\n",
    "df['CO2air'][9]"
   ]
  },
  {
   "source": [
    "Khởi tạo biến toàn cục là 0 hết"
   ],
   "cell_type": "markdown",
   "metadata": {}
  },
  {
   "cell_type": "code",
   "execution_count": 246,
   "metadata": {},
   "outputs": [],
   "source": [
    "MC_BlowAir=0\n",
    "MC_ExtAir=0\n",
    "MC_PadAir=0\n",
    "MC_AirCan=0\n",
    "MC_AirTop=0\n",
    "MC_AirOut=0\n",
    "MC_TopOut=0\n",
    "CO2_Air=0\n",
    "CO2_Top=0\n",
    "T=0\n",
    "Eta_Side=0\n",
    "Eta_Roof=0\n",
    "v_Wind=0"
   ]
  },
  {
   "cell_type": "code",
   "execution_count": 247,
   "metadata": {},
   "outputs": [
    {
     "output_type": "stream",
     "name": "stdout",
     "text": [
      "MC_BlowAir= 0.0020357142857142857\n\nMC_ExtAir= 5.142857142857143\n\nMC_PadAir= -4.519314035296737\n\nf_ThScr= 0.00014620088691064332\nMC_AirTop= 0.007310044345532166\n\nff_VentSide= 2.3142857142857145e-06\nEta_InscScr= 1\nf_leakage= 0.00032\nf_VentRoofSide= 6.078024316242502e-06\nf_VentForced= 0.0\nf_VentSide= 0.00016231428571428572\nMC_AirOut= 0.01630109399017191\n\nff_VentRoof= 2.6954853597801836e-06\nf_VentRoof 0.0001626954853597802\nMC_TopOut 0.016339377565908208\n\nh_C_Buf 1\nL= 1889.3620702936355\nfT= 1.027636952289044\nKT= 19.284741609303754\n----\nPT_Max= 19.817713093066626\nP_Max_LT= 26.88948102213548\nP= 7.7457463015088175\nR_HOHAP= 0.07745746301508817\nMC_AirCan 0.23004866515481187\n\ndx= [0.09787342588305394, -0.0225733330509401]\ndelta_T 299.99998\nCO2_next [797.7912265918196, 761.6572013205565]\nMC_BlowAir= 0.0020357142857142857\n\nMC_ExtAir= 5.142857142857143\n\nMC_PadAir= -4.519314035296737\n\nf_ThScr= 0.00014620088691064332\nMC_AirTop= 0.007310044345532166\n\nff_VentSide= 2.3142857142857145e-06\nEta_InscScr= 1\nf_leakage= 0.00032\nf_VentRoofSide= 6.078024316242502e-06\nf_VentForced= 0.0\nf_VentSide= 0.00016231428571428572\nMC_AirOut= 0.01630109399017191\n\nff_VentRoof= 2.6954853597801836e-06\nf_VentRoof 0.0001626954853597802\nMC_TopOut 0.021116446605797305\n\nh_C_Buf 1\nL= 1889.3620702936355\nfT= 1.0276369522815276\nKT= 19.28474161265764\n----\nPT_Max= 19.81771309636825\nP_Max_LT= 26.88948102661526\nP= 7.745746302660191\nR_HOHAP= 0.0774574630266019\nMC_AirCan 0.23004866518900766\n\ndx= [0.09787342587405504, -0.034516005650662845]\ndelta_T 299.99998\nCO2_next [827.1532523965676, 751.3024003156778]\nMC_BlowAir= 0.0020357142857142857\n\nMC_ExtAir= 5.142857142857143\n\nMC_PadAir= -4.519314035296737\n\nf_ThScr= 0.00014620088691064332\nMC_AirTop= 0.007310044345532166\n\nff_VentSide= 2.3142857142857145e-06\nEta_InscScr= 1\nf_leakage= 0.00032\nf_VentRoofSide= 6.078024316242502e-06\nf_VentForced= 0.0\nf_VentSide= 0.00016231428571428572\nMC_AirOut= 0.01630109399017191\n\nff_VentRoof= 2.6954853597801836e-06\nf_VentRoof 0.0001626954853597802\nMC_TopOut 0.025893515645247167\n\nh_C_Buf 1\nL= 1889.3620702936355\nfT= 1.027636952311593\nKT= 19.284741599242288\n----\nPT_Max= 19.81771308316194\nP_Max_LT= 26.889481008696396\nP= 7.745746298054775\nR_HOHAP= 0.07745746298054776\nMC_AirCan 0.2300486650522268\n\ndx= [0.09787342591005001, -0.0464586782492875]\ndelta_T 299.99998\nCO2_next [856.5152782121141, 737.3647977700651]\nMC_BlowAir= 0.0020357142857142857\n\nMC_ExtAir= 5.142857142857143\n\nMC_PadAir= -4.519314035296737\n\nf_ThScr= 0.00014620088691064332\nMC_AirTop= 0.007310044345532166\n\nff_VentSide= 2.3142857142857145e-06\nEta_InscScr= 1\nf_leakage= 0.00032\nf_VentRoofSide= 6.078024316242502e-06\nf_VentForced= 0.0\nf_VentSide= 0.00016231428571428572\nMC_AirOut= 0.01630109399017191\n\nff_VentRoof= 2.6954853597801836e-06\nf_VentRoof 0.0001626954853597802\nMC_TopOut 0.03067058468645391\n\nh_C_Buf 1\nL= 1889.3620702936355\nfT= 1.0280722449070259\nKT= 19.085575072170144\n----\nPT_Max= 19.621350009787534\nP_Max_LT= 26.623047585720034\nP= 7.677185092571432\nR_HOHAP= 0.07677185092571433\nMC_AirCan 0.2280123972493715\n\ndx= [0.09840928585816981, -0.05840135085230435]\ndelta_T 299.99998\nCO2_next [886.0380620013793, 719.8443936824009]\nMC_BlowAir= 0.0020357142857142857\n\nMC_ExtAir= 5.142857142857143\n\nMC_PadAir= -4.519314035296737\n\nf_ThScr= 0.00014620088691064332\nMC_AirTop= 0.007310044345532166\n\nff_VentSide= 2.3142857142857145e-06\nEta_InscScr= 1\nf_leakage= 0.00032\nf_VentRoofSide= 6.078024316242502e-06\nf_VentForced= 0.0\nf_VentSide= 0.00016231428571428572\nMC_AirOut= 0.01630109399017191\n\nff_VentRoof= 2.6954853597801836e-06\nf_VentRoof 0.0001626954853597802\nMC_TopOut 0.03547380832422026\n\nh_C_Buf 1\nL= 1889.3620702936355\nfT= 1.027636952311593\nKT= 19.284741599242288\n----\nPT_Max= 19.81771308316194\nP_Max_LT= 26.889481008696396\nP= 7.745746298054775\nR_HOHAP= 0.07745746298054776\nMC_AirCan 0.2300486650522268\n\ndx= [0.09787342591005001, -0.07040940994672022]\ndelta_T 299.99998\nCO2_next [915.4000878169259, 698.721572106573]\nMC_BlowAir= 0.0020357142857142857\n\nMC_ExtAir= 5.142857142857143\n\nMC_PadAir= -4.519314035296737\n\nf_ThScr= 0.00014620088691064332\nMC_AirTop= 0.007310044345532166\n\nff_VentSide= 2.3142857142857145e-06\nEta_InscScr= 1\nf_leakage= 0.00032\nf_VentRoofSide= 6.078024316242502e-06\nf_VentForced= 0.0\nf_VentSide= 0.00016231428571428572\nMC_AirOut= 0.01630109399017191\n\nff_VentRoof= 2.6954853597801836e-06\nf_VentRoof 0.0001626954853597802\nMC_TopOut 0.040250877365427\n\nh_C_Buf 1\nL= 1889.3620702936355\nfT= 1.027857836621117\nKT= 19.184933890704627\n----\nPT_Max= 19.71938464461881\nP_Max_LT= 26.756064974781427\nP= 7.711435359371768\nR_HOHAP= 0.07711435359371768\nMC_AirCan 0.2290296301733415\n\ndx= [0.09814159298344087, -0.08235208254973707]\ndelta_T 300.000067\nCO2_next [944.8425722874449, 674.0159418240623]\nMC_BlowAir= 0.0020357142857142857\n\nMC_ExtAir= 5.142857142857143\n\nMC_PadAir= -4.519314035296737\n\nf_ThScr= 0.00014620088691064332\nMC_AirTop= 0.007310044345532166\n\nff_VentSide= 1.9526785714285714e-06\nEta_InscScr= 1\nf_leakage= 0.00027000000000000006\nf_VentRoofSide= 5.483220720312257e-06\nf_VentForced= 0.0\nf_VentSide= 0.0001369526785714286\nMC_AirOut= 0.013754048054207551\n\nff_VentRoof= 2.3153286061337252e-06\nf_VentRoof 0.00013731532860613375\nMC_TopOut 0.03801472878581784\n\nh_C_Buf 1\nL= 1889.3620702936355\nfT= 1.027636952289044\nKT= 19.284741609303754\n----\nPT_Max= 19.817713093066626\nP_Max_LT= 26.88948102213548\nP= 7.7457463015088175\nR_HOHAP= 0.07745746301508817\nMC_AirCan 0.23004866515481187\n\ndx= [0.09854370112936035, -0.07676171110071417]\ndelta_T 299.99998\nCO2_next [974.405680655379, 650.9874300290824]\nMC_BlowAir= 0.0020357142857142857\n\nMC_ExtAir= 5.142857142857143\n\nMC_PadAir= -4.519314035296737\n\nf_ThScr= 0.00014620088691064332\nMC_AirTop= 0.007310044345532166\n\nff_VentSide= 1.9526785714285714e-06\nEta_InscScr= 1\nf_leakage= 0.00027000000000000006\nf_VentRoofSide= 5.483220720312257e-06\nf_VentForced= 0.0\nf_VentSide= 0.0001369526785714286\nMC_AirOut= 0.013754048054207551\n\nff_VentRoof= 2.3153286061337252e-06\nf_VentRoof 0.00013731532860613375\nMC_TopOut 0.04207419672597945\n\nh_C_Buf 1\nL= 1889.3620702936355\nfT= 1.027857836606525\nKT= 19.184933897382123\n----\nPT_Max= 19.719384651202375\nP_Max_LT= 26.756064983714275\nP= 7.711435361670461\nR_HOHAP= 0.07711435361670461\nMC_AirCan 0.2290296302416127\n\ndx= [0.09881186821178119, -0.08691038095111821]\ndelta_T 299.99998\nCO2_next [1004.049239142676, 624.9143174819545]\nMC_BlowAir= 0.0020357142857142857\n\nMC_ExtAir= 5.142857142857143\n\nMC_PadAir= -4.519314035296737\n\nf_ThScr= 0.00014620088691064332\nMC_AirTop= 0.007310044345532166\n\nff_VentSide= 1.9526785714285714e-06\nEta_InscScr= 1\nf_leakage= 0.00027000000000000006\nf_VentRoofSide= 5.483220720312257e-06\nf_VentForced= 0.0\nf_VentSide= 0.0001369526785714286\nMC_AirOut= 0.013754048054207551\n\nff_VentRoof= 2.3153286061337252e-06\nf_VentRoof 0.00013731532860613375\nMC_TopOut 0.04614471170071778\n\nh_C_Buf 1\nL= 1889.3620702936355\nfT= 1.0276369523040767\nKT= 19.28474160259606\n----\nPT_Max= 19.817713086463453\nP_Max_LT= 26.889481013176024\nP= 7.745746299206105\nR_HOHAP= 0.07745746299206105\nMC_AirCan 0.2300486650864213\n\ndx= [0.09854370114735787, -0.09708666838796402]\ndelta_T 300.000067\nCO2_next [1033.6123560893113, 595.7883104607586]\nMC_BlowAir= 0.0020357142857142857\n\nMC_ExtAir= 5.142857142857143\n\nMC_PadAir= -4.519314035296737\n\nf_ThScr= 0.00014620088691064332\nMC_AirTop= 0.007310044345532166\n\nff_VentSide= 1.9526785714285714e-06\nEta_InscScr= 1\nf_leakage= 0.00027000000000000006\nf_VentRoofSide= 5.483220720312257e-06\nf_VentForced= 0.0\nf_VentSide= 0.0001369526785714286\nMC_AirOut= 0.013754048054207551\n\nff_VentRoof= 2.3153286061337252e-06\nf_VentRoof 0.00013731532860613375\nMC_TopOut 0.05020418081886657\n\nh_C_Buf 1\nL= 1889.3620702936355\nfT= 1.0274094040006188\nKT= 19.384999914144572\n----\nPT_Max= 19.91633120834332\nP_Max_LT= 27.02329010125163\nP= 7.780116093245018\nR_HOHAP= 0.07780116093245018\nMC_AirCan 0.23106944796937703\n\ndx= [0.09827507407289585, -0.10723534118333601]\ndelta_T 299.99998\nCO2_next [1063.0948763456786, 563.6177102504646]\n[768.4292007843719, 768.4292007843719]\n[797.7912265918196, 761.6572013205565]\n[827.1532523965676, 751.3024003156778]\n[856.5152782121141, 737.3647977700651]\n[886.0380620013793, 719.8443936824009]\n[915.4000878169259, 698.721572106573]\n[944.8425722874449, 674.0159418240623]\n[974.405680655379, 650.9874300290824]\n[1004.049239142676, 624.9143174819545]\n[1033.6123560893113, 595.7883104607586]\n[1063.0948763456786, 563.6177102504646]\n"
     ]
    }
   ],
   "source": [
    "CO2_Air=float(ConvertAirFrom_PPM_To_mgDivm3(df['CO2air'][0]))\n",
    "CO2_Top=CO2_Air\n",
    "ListOfResult=[[CO2_Air,CO2_Top]]\n",
    "for i in range(0,10):\n",
    "    #KHAI Báo biến thay đổi dựa vào DATA\n",
    "    CO2Air=ListOfResult[-1][0]\n",
    "    CO2_Top=ListOfResult[-1][0]\n",
    "    T=float(df['Tair'][i]+273)\n",
    "    #print(\"Temperature=\",T)\n",
    "    Eta_Side=float(df['Ventwind'][i]/100)\n",
    "    Eta_Roof=float(df['VentLee'][i]/100)\n",
    "    v_Wind=float(df['Windsp'][i])\n",
    "    #print(\"CO2Air=\",CO2_Air)\n",
    "    #print(\"Eta_Side\",Eta_Side)\n",
    "    #print(\"Eta_Roof\",Eta_Roof)\n",
    "    #print(\"v_Wind\",v_Wind)\n",
    "    #print(\"----------\")\n",
    "    #print(\"dx\",dx(cap_CO2_Air,cap_CO2_Top,MC_BlowAir,MC_ExtAir,MC_PadAir,MC_AirCan,MC_AirTop,MC_AirOut,MC_TopOut))\n",
    "    res_dx=dx(cap_CO2_Air,cap_CO2_Top,MC_BlowAir,MC_ExtAir,MC_PadAir,MC_AirCan,MC_AirTop,MC_AirOut,MC_TopOut)\n",
    "    print(\"dx=\",res_dx)\n",
    "    delta_T=((df['GHtime'][i+1]-df['GHtime'][i]).total_seconds())\n",
    "    print(\"delta_T\",delta_T)\n",
    "    CO2_next=[res_dx[0]*delta_T+ListOfResult[-1][0],res_dx[1]*delta_T+ListOfResult[-1][1]]\n",
    "    print(\"CO2_next\",CO2_next)\n",
    "    ListOfResult.append(CO2_next)\n",
    "    #print([CO2_Air,CO2_Top]+dx*)\n",
    "for ll in ListOfResult:\n",
    "    print(ll)\n",
    "#print(ListOfResult)\n"
   ]
  },
  {
   "source": [
    "Chú ý biến trùng tên\n",
    "\n",
    "Chú ý dấu các biến Delta là dương hay âm\n",
    "\n",
    "Chú ý đơn vị của CO2Air trong quang hợp và lúc bình thường (chưa đổi)\n"
   ],
   "cell_type": "markdown",
   "metadata": {}
  },
  {
   "source": [
    "d\n"
   ],
   "cell_type": "markdown",
   "metadata": {}
  }
 ]
}